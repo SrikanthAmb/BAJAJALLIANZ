{
 "cells": [
  {
   "cell_type": "markdown",
   "metadata": {},
   "source": [
    "### BAJAJ-ALLIANZ"
   ]
  },
  {
   "cell_type": "code",
   "execution_count": 1,
   "metadata": {},
   "outputs": [],
   "source": [
    "import pandas as pd\n",
    "import numpy as np\n",
    "import matplotlib.pyplot as plt\n",
    "import seaborn as sns"
   ]
  },
  {
   "cell_type": "code",
   "execution_count": 2,
   "metadata": {},
   "outputs": [],
   "source": [
    "import warnings\n",
    "warnings.filterwarnings('ignore')"
   ]
  },
  {
   "cell_type": "code",
   "execution_count": 3,
   "metadata": {},
   "outputs": [],
   "source": [
    "pin=pd.read_csv(r\"pincode.csv\")"
   ]
  },
  {
   "cell_type": "code",
   "execution_count": 4,
   "metadata": {},
   "outputs": [
    {
     "data": {
      "text/html": [
       "<div>\n",
       "<style scoped>\n",
       "    .dataframe tbody tr th:only-of-type {\n",
       "        vertical-align: middle;\n",
       "    }\n",
       "\n",
       "    .dataframe tbody tr th {\n",
       "        vertical-align: top;\n",
       "    }\n",
       "\n",
       "    .dataframe thead th {\n",
       "        text-align: right;\n",
       "    }\n",
       "</style>\n",
       "<table border=\"1\" class=\"dataframe\">\n",
       "  <thead>\n",
       "    <tr style=\"text-align: right;\">\n",
       "      <th></th>\n",
       "      <th>CircleName</th>\n",
       "      <th>RegionName</th>\n",
       "      <th>DivisionName</th>\n",
       "      <th>OfficeName</th>\n",
       "      <th>Pincode</th>\n",
       "      <th>OfficeType</th>\n",
       "      <th>Delivery</th>\n",
       "      <th>District</th>\n",
       "      <th>StateName</th>\n",
       "      <th>Latitude</th>\n",
       "      <th>Longitude</th>\n",
       "    </tr>\n",
       "  </thead>\n",
       "  <tbody>\n",
       "    <tr>\n",
       "      <th>0</th>\n",
       "      <td>Andhra Pradesh Circle</td>\n",
       "      <td>Kurnool Region</td>\n",
       "      <td>Hindupur Division</td>\n",
       "      <td>Peddakotla B.O</td>\n",
       "      <td>515631</td>\n",
       "      <td>BO</td>\n",
       "      <td>Delivery</td>\n",
       "      <td>ANANTAPUR</td>\n",
       "      <td>ANDHRA PRADESH</td>\n",
       "      <td>14.5689</td>\n",
       "      <td>77.85624</td>\n",
       "    </tr>\n",
       "    <tr>\n",
       "      <th>1</th>\n",
       "      <td>Andhra Pradesh Circle</td>\n",
       "      <td>Kurnool Region</td>\n",
       "      <td>Hindupur Division</td>\n",
       "      <td>Pinnadhari B.O</td>\n",
       "      <td>515631</td>\n",
       "      <td>BO</td>\n",
       "      <td>Delivery</td>\n",
       "      <td>ANANTAPUR</td>\n",
       "      <td>ANDHRA PRADESH</td>\n",
       "      <td>14.5281</td>\n",
       "      <td>77.857014</td>\n",
       "    </tr>\n",
       "    <tr>\n",
       "      <th>2</th>\n",
       "      <td>Andhra Pradesh Circle</td>\n",
       "      <td>Kurnool Region</td>\n",
       "      <td>Hindupur Division</td>\n",
       "      <td>Yerraguntapalle B.O</td>\n",
       "      <td>515631</td>\n",
       "      <td>BO</td>\n",
       "      <td>Delivery</td>\n",
       "      <td>ANANTAPUR</td>\n",
       "      <td>ANDHRA PRADESH</td>\n",
       "      <td>14.561111</td>\n",
       "      <td>77.85715</td>\n",
       "    </tr>\n",
       "    <tr>\n",
       "      <th>3</th>\n",
       "      <td>Andhra Pradesh Circle</td>\n",
       "      <td>Kurnool Region</td>\n",
       "      <td>Hindupur Division</td>\n",
       "      <td>Obulareddipalli B.O</td>\n",
       "      <td>515581</td>\n",
       "      <td>BO</td>\n",
       "      <td>Delivery</td>\n",
       "      <td>ANANTAPUR</td>\n",
       "      <td>ANDHRA PRADESH</td>\n",
       "      <td>14.2488</td>\n",
       "      <td>78.2588</td>\n",
       "    </tr>\n",
       "    <tr>\n",
       "      <th>4</th>\n",
       "      <td>Andhra Pradesh Circle</td>\n",
       "      <td>Kurnool Region</td>\n",
       "      <td>Hindupur Division</td>\n",
       "      <td>Odulapalli B.O</td>\n",
       "      <td>515581</td>\n",
       "      <td>BO</td>\n",
       "      <td>Delivery</td>\n",
       "      <td>ANANTAPUR</td>\n",
       "      <td>ANDHRA PRADESH</td>\n",
       "      <td>14.24555</td>\n",
       "      <td>78.2477</td>\n",
       "    </tr>\n",
       "  </tbody>\n",
       "</table>\n",
       "</div>"
      ],
      "text/plain": [
       "              CircleName      RegionName       DivisionName  \\\n",
       "0  Andhra Pradesh Circle  Kurnool Region  Hindupur Division   \n",
       "1  Andhra Pradesh Circle  Kurnool Region  Hindupur Division   \n",
       "2  Andhra Pradesh Circle  Kurnool Region  Hindupur Division   \n",
       "3  Andhra Pradesh Circle  Kurnool Region  Hindupur Division   \n",
       "4  Andhra Pradesh Circle  Kurnool Region  Hindupur Division   \n",
       "\n",
       "            OfficeName  Pincode OfficeType  Delivery   District  \\\n",
       "0       Peddakotla B.O   515631         BO  Delivery  ANANTAPUR   \n",
       "1       Pinnadhari B.O   515631         BO  Delivery  ANANTAPUR   \n",
       "2  Yerraguntapalle B.O   515631         BO  Delivery  ANANTAPUR   \n",
       "3  Obulareddipalli B.O   515581         BO  Delivery  ANANTAPUR   \n",
       "4       Odulapalli B.O   515581         BO  Delivery  ANANTAPUR   \n",
       "\n",
       "        StateName   Latitude  Longitude  \n",
       "0  ANDHRA PRADESH    14.5689   77.85624  \n",
       "1  ANDHRA PRADESH    14.5281  77.857014  \n",
       "2  ANDHRA PRADESH  14.561111   77.85715  \n",
       "3  ANDHRA PRADESH    14.2488    78.2588  \n",
       "4  ANDHRA PRADESH   14.24555    78.2477  "
      ]
     },
     "execution_count": 4,
     "metadata": {},
     "output_type": "execute_result"
    }
   ],
   "source": [
    "pin.head()"
   ]
  },
  {
   "cell_type": "code",
   "execution_count": 5,
   "metadata": {},
   "outputs": [],
   "source": [
    "pin=pin[['Pincode','StateName']]"
   ]
  },
  {
   "cell_type": "code",
   "execution_count": 6,
   "metadata": {},
   "outputs": [
    {
     "data": {
      "text/html": [
       "<div>\n",
       "<style scoped>\n",
       "    .dataframe tbody tr th:only-of-type {\n",
       "        vertical-align: middle;\n",
       "    }\n",
       "\n",
       "    .dataframe tbody tr th {\n",
       "        vertical-align: top;\n",
       "    }\n",
       "\n",
       "    .dataframe thead th {\n",
       "        text-align: right;\n",
       "    }\n",
       "</style>\n",
       "<table border=\"1\" class=\"dataframe\">\n",
       "  <thead>\n",
       "    <tr style=\"text-align: right;\">\n",
       "      <th></th>\n",
       "      <th>Pincode</th>\n",
       "      <th>StateName</th>\n",
       "    </tr>\n",
       "  </thead>\n",
       "  <tbody>\n",
       "    <tr>\n",
       "      <th>0</th>\n",
       "      <td>515631</td>\n",
       "      <td>ANDHRA PRADESH</td>\n",
       "    </tr>\n",
       "    <tr>\n",
       "      <th>1</th>\n",
       "      <td>515631</td>\n",
       "      <td>ANDHRA PRADESH</td>\n",
       "    </tr>\n",
       "    <tr>\n",
       "      <th>2</th>\n",
       "      <td>515631</td>\n",
       "      <td>ANDHRA PRADESH</td>\n",
       "    </tr>\n",
       "    <tr>\n",
       "      <th>3</th>\n",
       "      <td>515581</td>\n",
       "      <td>ANDHRA PRADESH</td>\n",
       "    </tr>\n",
       "    <tr>\n",
       "      <th>4</th>\n",
       "      <td>515581</td>\n",
       "      <td>ANDHRA PRADESH</td>\n",
       "    </tr>\n",
       "  </tbody>\n",
       "</table>\n",
       "</div>"
      ],
      "text/plain": [
       "   Pincode       StateName\n",
       "0   515631  ANDHRA PRADESH\n",
       "1   515631  ANDHRA PRADESH\n",
       "2   515631  ANDHRA PRADESH\n",
       "3   515581  ANDHRA PRADESH\n",
       "4   515581  ANDHRA PRADESH"
      ]
     },
     "execution_count": 6,
     "metadata": {},
     "output_type": "execute_result"
    }
   ],
   "source": [
    "pin.head()"
   ]
  },
  {
   "cell_type": "code",
   "execution_count": 7,
   "metadata": {},
   "outputs": [],
   "source": [
    "pin=pin.rename(columns={'Pincode':'PINCODE'})"
   ]
  },
  {
   "cell_type": "code",
   "execution_count": 8,
   "metadata": {},
   "outputs": [
    {
     "data": {
      "text/html": [
       "<div>\n",
       "<style scoped>\n",
       "    .dataframe tbody tr th:only-of-type {\n",
       "        vertical-align: middle;\n",
       "    }\n",
       "\n",
       "    .dataframe tbody tr th {\n",
       "        vertical-align: top;\n",
       "    }\n",
       "\n",
       "    .dataframe thead th {\n",
       "        text-align: right;\n",
       "    }\n",
       "</style>\n",
       "<table border=\"1\" class=\"dataframe\">\n",
       "  <thead>\n",
       "    <tr style=\"text-align: right;\">\n",
       "      <th></th>\n",
       "      <th>PINCODE</th>\n",
       "      <th>StateName</th>\n",
       "    </tr>\n",
       "  </thead>\n",
       "  <tbody>\n",
       "    <tr>\n",
       "      <th>0</th>\n",
       "      <td>515631</td>\n",
       "      <td>ANDHRA PRADESH</td>\n",
       "    </tr>\n",
       "    <tr>\n",
       "      <th>1</th>\n",
       "      <td>515631</td>\n",
       "      <td>ANDHRA PRADESH</td>\n",
       "    </tr>\n",
       "    <tr>\n",
       "      <th>2</th>\n",
       "      <td>515631</td>\n",
       "      <td>ANDHRA PRADESH</td>\n",
       "    </tr>\n",
       "    <tr>\n",
       "      <th>3</th>\n",
       "      <td>515581</td>\n",
       "      <td>ANDHRA PRADESH</td>\n",
       "    </tr>\n",
       "    <tr>\n",
       "      <th>4</th>\n",
       "      <td>515581</td>\n",
       "      <td>ANDHRA PRADESH</td>\n",
       "    </tr>\n",
       "  </tbody>\n",
       "</table>\n",
       "</div>"
      ],
      "text/plain": [
       "   PINCODE       StateName\n",
       "0   515631  ANDHRA PRADESH\n",
       "1   515631  ANDHRA PRADESH\n",
       "2   515631  ANDHRA PRADESH\n",
       "3   515581  ANDHRA PRADESH\n",
       "4   515581  ANDHRA PRADESH"
      ]
     },
     "execution_count": 8,
     "metadata": {},
     "output_type": "execute_result"
    }
   ],
   "source": [
    "pin.head()"
   ]
  },
  {
   "cell_type": "code",
   "execution_count": 9,
   "metadata": {},
   "outputs": [],
   "source": [
    "baj=pd.read_csv(r\"BAJAJALLIANZ.csv\")"
   ]
  },
  {
   "cell_type": "code",
   "execution_count": 10,
   "metadata": {},
   "outputs": [
    {
     "data": {
      "text/html": [
       "<div>\n",
       "<style scoped>\n",
       "    .dataframe tbody tr th:only-of-type {\n",
       "        vertical-align: middle;\n",
       "    }\n",
       "\n",
       "    .dataframe tbody tr th {\n",
       "        vertical-align: top;\n",
       "    }\n",
       "\n",
       "    .dataframe thead th {\n",
       "        text-align: right;\n",
       "    }\n",
       "</style>\n",
       "<table border=\"1\" class=\"dataframe\">\n",
       "  <thead>\n",
       "    <tr style=\"text-align: right;\">\n",
       "      <th></th>\n",
       "      <th>ID</th>\n",
       "      <th>AGE</th>\n",
       "      <th>EDUCATION</th>\n",
       "      <th>OCC</th>\n",
       "      <th>PINCODE</th>\n",
       "      <th>PROD_CATEGORY</th>\n",
       "      <th>INCOME_SEGMENT</th>\n",
       "      <th>PROSPERITY_INDEX_BAND</th>\n",
       "      <th>QUALITY_SCORE_BAND</th>\n",
       "      <th>ISSUANCE_MONTH</th>\n",
       "    </tr>\n",
       "  </thead>\n",
       "  <tbody>\n",
       "    <tr>\n",
       "      <th>0</th>\n",
       "      <td>9354</td>\n",
       "      <td>27.0</td>\n",
       "      <td>masters_plus</td>\n",
       "      <td>salaried_pvt</td>\n",
       "      <td>495001.0</td>\n",
       "      <td>trad</td>\n",
       "      <td>5</td>\n",
       "      <td>High</td>\n",
       "      <td>6</td>\n",
       "      <td>Mar-22</td>\n",
       "    </tr>\n",
       "    <tr>\n",
       "      <th>1</th>\n",
       "      <td>7823</td>\n",
       "      <td>58.0</td>\n",
       "      <td>graduate_plus</td>\n",
       "      <td>salaried_govt</td>\n",
       "      <td>272001.0</td>\n",
       "      <td>ulip</td>\n",
       "      <td>4</td>\n",
       "      <td>Medium</td>\n",
       "      <td>5</td>\n",
       "      <td>Dec-21</td>\n",
       "    </tr>\n",
       "    <tr>\n",
       "      <th>2</th>\n",
       "      <td>6170</td>\n",
       "      <td>52.0</td>\n",
       "      <td>masters_plus</td>\n",
       "      <td>salaried_govt</td>\n",
       "      <td>721101.0</td>\n",
       "      <td>trad</td>\n",
       "      <td>5</td>\n",
       "      <td>High</td>\n",
       "      <td>5</td>\n",
       "      <td>Aug-21</td>\n",
       "    </tr>\n",
       "    <tr>\n",
       "      <th>3</th>\n",
       "      <td>9199</td>\n",
       "      <td>52.0</td>\n",
       "      <td>higher_secondary</td>\n",
       "      <td>business</td>\n",
       "      <td>712612.0</td>\n",
       "      <td>trad</td>\n",
       "      <td>3</td>\n",
       "      <td>Medium</td>\n",
       "      <td>2</td>\n",
       "      <td>Mar-22</td>\n",
       "    </tr>\n",
       "    <tr>\n",
       "      <th>4</th>\n",
       "      <td>9981</td>\n",
       "      <td>34.0</td>\n",
       "      <td>graduate_plus</td>\n",
       "      <td>salaried_pvt</td>\n",
       "      <td>110085.0</td>\n",
       "      <td>ulip</td>\n",
       "      <td>6</td>\n",
       "      <td>Very_high</td>\n",
       "      <td>6</td>\n",
       "      <td>Mar-22</td>\n",
       "    </tr>\n",
       "  </tbody>\n",
       "</table>\n",
       "</div>"
      ],
      "text/plain": [
       "     ID   AGE         EDUCATION            OCC   PINCODE PROD_CATEGORY  \\\n",
       "0  9354  27.0      masters_plus   salaried_pvt  495001.0          trad   \n",
       "1  7823  58.0     graduate_plus  salaried_govt  272001.0          ulip   \n",
       "2  6170  52.0      masters_plus  salaried_govt  721101.0          trad   \n",
       "3  9199  52.0  higher_secondary       business  712612.0          trad   \n",
       "4  9981  34.0     graduate_plus   salaried_pvt  110085.0          ulip   \n",
       "\n",
       "   INCOME_SEGMENT PROSPERITY_INDEX_BAND  QUALITY_SCORE_BAND ISSUANCE_MONTH  \n",
       "0               5                  High                   6         Mar-22  \n",
       "1               4                Medium                   5         Dec-21  \n",
       "2               5                  High                   5         Aug-21  \n",
       "3               3                Medium                   2         Mar-22  \n",
       "4               6             Very_high                   6         Mar-22  "
      ]
     },
     "execution_count": 10,
     "metadata": {},
     "output_type": "execute_result"
    }
   ],
   "source": [
    "baj.head()"
   ]
  },
  {
   "cell_type": "code",
   "execution_count": 11,
   "metadata": {},
   "outputs": [],
   "source": [
    "baj['AGE']=pd.to_numeric(baj['AGE'])\n",
    "baj['PINCODE']=pd.to_numeric(baj['PINCODE'])"
   ]
  },
  {
   "cell_type": "code",
   "execution_count": 12,
   "metadata": {},
   "outputs": [],
   "source": [
    "baj.rename(columns={'OCC':'OCCUPATION'},inplace=True)"
   ]
  },
  {
   "cell_type": "code",
   "execution_count": 13,
   "metadata": {},
   "outputs": [
    {
     "data": {
      "text/plain": [
       "ID                        0\n",
       "AGE                      18\n",
       "EDUCATION                 0\n",
       "OCCUPATION                0\n",
       "PINCODE                   2\n",
       "PROD_CATEGORY             0\n",
       "INCOME_SEGMENT            0\n",
       "PROSPERITY_INDEX_BAND     0\n",
       "QUALITY_SCORE_BAND        0\n",
       "ISSUANCE_MONTH            0\n",
       "dtype: int64"
      ]
     },
     "execution_count": 13,
     "metadata": {},
     "output_type": "execute_result"
    }
   ],
   "source": [
    "baj.isna().sum()"
   ]
  },
  {
   "cell_type": "code",
   "execution_count": 14,
   "metadata": {},
   "outputs": [
    {
     "data": {
      "text/plain": [
       "(4500, 10)"
      ]
     },
     "execution_count": 14,
     "metadata": {},
     "output_type": "execute_result"
    }
   ],
   "source": [
    "baj.shape"
   ]
  },
  {
   "cell_type": "code",
   "execution_count": 15,
   "metadata": {},
   "outputs": [],
   "source": [
    "baj=baj.dropna(how='any',axis=0)"
   ]
  },
  {
   "cell_type": "code",
   "execution_count": 16,
   "metadata": {},
   "outputs": [
    {
     "data": {
      "text/plain": [
       "ID                       0\n",
       "AGE                      0\n",
       "EDUCATION                0\n",
       "OCCUPATION               0\n",
       "PINCODE                  0\n",
       "PROD_CATEGORY            0\n",
       "INCOME_SEGMENT           0\n",
       "PROSPERITY_INDEX_BAND    0\n",
       "QUALITY_SCORE_BAND       0\n",
       "ISSUANCE_MONTH           0\n",
       "dtype: int64"
      ]
     },
     "execution_count": 16,
     "metadata": {},
     "output_type": "execute_result"
    }
   ],
   "source": [
    "baj.isna().sum()"
   ]
  },
  {
   "cell_type": "code",
   "execution_count": 17,
   "metadata": {},
   "outputs": [],
   "source": [
    "baj['AGE']=baj['AGE'].astype(int)\n",
    "baj['PINCODE']=baj['PINCODE'].astype(int)"
   ]
  },
  {
   "cell_type": "code",
   "execution_count": 18,
   "metadata": {},
   "outputs": [
    {
     "data": {
      "text/html": [
       "<div>\n",
       "<style scoped>\n",
       "    .dataframe tbody tr th:only-of-type {\n",
       "        vertical-align: middle;\n",
       "    }\n",
       "\n",
       "    .dataframe tbody tr th {\n",
       "        vertical-align: top;\n",
       "    }\n",
       "\n",
       "    .dataframe thead th {\n",
       "        text-align: right;\n",
       "    }\n",
       "</style>\n",
       "<table border=\"1\" class=\"dataframe\">\n",
       "  <thead>\n",
       "    <tr style=\"text-align: right;\">\n",
       "      <th></th>\n",
       "      <th>ID</th>\n",
       "      <th>AGE</th>\n",
       "      <th>EDUCATION</th>\n",
       "      <th>OCCUPATION</th>\n",
       "      <th>PINCODE</th>\n",
       "      <th>PROD_CATEGORY</th>\n",
       "      <th>INCOME_SEGMENT</th>\n",
       "      <th>PROSPERITY_INDEX_BAND</th>\n",
       "      <th>QUALITY_SCORE_BAND</th>\n",
       "      <th>ISSUANCE_MONTH</th>\n",
       "    </tr>\n",
       "  </thead>\n",
       "  <tbody>\n",
       "    <tr>\n",
       "      <th>0</th>\n",
       "      <td>9354</td>\n",
       "      <td>27</td>\n",
       "      <td>masters_plus</td>\n",
       "      <td>salaried_pvt</td>\n",
       "      <td>495001</td>\n",
       "      <td>trad</td>\n",
       "      <td>5</td>\n",
       "      <td>High</td>\n",
       "      <td>6</td>\n",
       "      <td>Mar-22</td>\n",
       "    </tr>\n",
       "    <tr>\n",
       "      <th>1</th>\n",
       "      <td>7823</td>\n",
       "      <td>58</td>\n",
       "      <td>graduate_plus</td>\n",
       "      <td>salaried_govt</td>\n",
       "      <td>272001</td>\n",
       "      <td>ulip</td>\n",
       "      <td>4</td>\n",
       "      <td>Medium</td>\n",
       "      <td>5</td>\n",
       "      <td>Dec-21</td>\n",
       "    </tr>\n",
       "    <tr>\n",
       "      <th>2</th>\n",
       "      <td>6170</td>\n",
       "      <td>52</td>\n",
       "      <td>masters_plus</td>\n",
       "      <td>salaried_govt</td>\n",
       "      <td>721101</td>\n",
       "      <td>trad</td>\n",
       "      <td>5</td>\n",
       "      <td>High</td>\n",
       "      <td>5</td>\n",
       "      <td>Aug-21</td>\n",
       "    </tr>\n",
       "    <tr>\n",
       "      <th>3</th>\n",
       "      <td>9199</td>\n",
       "      <td>52</td>\n",
       "      <td>higher_secondary</td>\n",
       "      <td>business</td>\n",
       "      <td>712612</td>\n",
       "      <td>trad</td>\n",
       "      <td>3</td>\n",
       "      <td>Medium</td>\n",
       "      <td>2</td>\n",
       "      <td>Mar-22</td>\n",
       "    </tr>\n",
       "    <tr>\n",
       "      <th>4</th>\n",
       "      <td>9981</td>\n",
       "      <td>34</td>\n",
       "      <td>graduate_plus</td>\n",
       "      <td>salaried_pvt</td>\n",
       "      <td>110085</td>\n",
       "      <td>ulip</td>\n",
       "      <td>6</td>\n",
       "      <td>Very_high</td>\n",
       "      <td>6</td>\n",
       "      <td>Mar-22</td>\n",
       "    </tr>\n",
       "  </tbody>\n",
       "</table>\n",
       "</div>"
      ],
      "text/plain": [
       "     ID  AGE         EDUCATION     OCCUPATION  PINCODE PROD_CATEGORY  \\\n",
       "0  9354   27      masters_plus   salaried_pvt   495001          trad   \n",
       "1  7823   58     graduate_plus  salaried_govt   272001          ulip   \n",
       "2  6170   52      masters_plus  salaried_govt   721101          trad   \n",
       "3  9199   52  higher_secondary       business   712612          trad   \n",
       "4  9981   34     graduate_plus   salaried_pvt   110085          ulip   \n",
       "\n",
       "   INCOME_SEGMENT PROSPERITY_INDEX_BAND  QUALITY_SCORE_BAND ISSUANCE_MONTH  \n",
       "0               5                  High                   6         Mar-22  \n",
       "1               4                Medium                   5         Dec-21  \n",
       "2               5                  High                   5         Aug-21  \n",
       "3               3                Medium                   2         Mar-22  \n",
       "4               6             Very_high                   6         Mar-22  "
      ]
     },
     "execution_count": 18,
     "metadata": {},
     "output_type": "execute_result"
    }
   ],
   "source": [
    "baj.head()"
   ]
  },
  {
   "cell_type": "code",
   "execution_count": 19,
   "metadata": {},
   "outputs": [],
   "source": [
    "bajaj = pd.merge(baj, pin, on='PINCODE', how=\"left\")"
   ]
  },
  {
   "cell_type": "code",
   "execution_count": 20,
   "metadata": {},
   "outputs": [
    {
     "data": {
      "text/html": [
       "<div>\n",
       "<style scoped>\n",
       "    .dataframe tbody tr th:only-of-type {\n",
       "        vertical-align: middle;\n",
       "    }\n",
       "\n",
       "    .dataframe tbody tr th {\n",
       "        vertical-align: top;\n",
       "    }\n",
       "\n",
       "    .dataframe thead th {\n",
       "        text-align: right;\n",
       "    }\n",
       "</style>\n",
       "<table border=\"1\" class=\"dataframe\">\n",
       "  <thead>\n",
       "    <tr style=\"text-align: right;\">\n",
       "      <th></th>\n",
       "      <th>ID</th>\n",
       "      <th>AGE</th>\n",
       "      <th>EDUCATION</th>\n",
       "      <th>OCCUPATION</th>\n",
       "      <th>PINCODE</th>\n",
       "      <th>PROD_CATEGORY</th>\n",
       "      <th>INCOME_SEGMENT</th>\n",
       "      <th>PROSPERITY_INDEX_BAND</th>\n",
       "      <th>QUALITY_SCORE_BAND</th>\n",
       "      <th>ISSUANCE_MONTH</th>\n",
       "      <th>StateName</th>\n",
       "    </tr>\n",
       "  </thead>\n",
       "  <tbody>\n",
       "    <tr>\n",
       "      <th>0</th>\n",
       "      <td>9354</td>\n",
       "      <td>27</td>\n",
       "      <td>masters_plus</td>\n",
       "      <td>salaried_pvt</td>\n",
       "      <td>495001</td>\n",
       "      <td>trad</td>\n",
       "      <td>5</td>\n",
       "      <td>High</td>\n",
       "      <td>6</td>\n",
       "      <td>Mar-22</td>\n",
       "      <td>CHHATTISGARH</td>\n",
       "    </tr>\n",
       "    <tr>\n",
       "      <th>1</th>\n",
       "      <td>9354</td>\n",
       "      <td>27</td>\n",
       "      <td>masters_plus</td>\n",
       "      <td>salaried_pvt</td>\n",
       "      <td>495001</td>\n",
       "      <td>trad</td>\n",
       "      <td>5</td>\n",
       "      <td>High</td>\n",
       "      <td>6</td>\n",
       "      <td>Mar-22</td>\n",
       "      <td>CHHATTISGARH</td>\n",
       "    </tr>\n",
       "    <tr>\n",
       "      <th>2</th>\n",
       "      <td>9354</td>\n",
       "      <td>27</td>\n",
       "      <td>masters_plus</td>\n",
       "      <td>salaried_pvt</td>\n",
       "      <td>495001</td>\n",
       "      <td>trad</td>\n",
       "      <td>5</td>\n",
       "      <td>High</td>\n",
       "      <td>6</td>\n",
       "      <td>Mar-22</td>\n",
       "      <td>CHHATTISGARH</td>\n",
       "    </tr>\n",
       "    <tr>\n",
       "      <th>3</th>\n",
       "      <td>9354</td>\n",
       "      <td>27</td>\n",
       "      <td>masters_plus</td>\n",
       "      <td>salaried_pvt</td>\n",
       "      <td>495001</td>\n",
       "      <td>trad</td>\n",
       "      <td>5</td>\n",
       "      <td>High</td>\n",
       "      <td>6</td>\n",
       "      <td>Mar-22</td>\n",
       "      <td>CHHATTISGARH</td>\n",
       "    </tr>\n",
       "    <tr>\n",
       "      <th>4</th>\n",
       "      <td>9354</td>\n",
       "      <td>27</td>\n",
       "      <td>masters_plus</td>\n",
       "      <td>salaried_pvt</td>\n",
       "      <td>495001</td>\n",
       "      <td>trad</td>\n",
       "      <td>5</td>\n",
       "      <td>High</td>\n",
       "      <td>6</td>\n",
       "      <td>Mar-22</td>\n",
       "      <td>CHHATTISGARH</td>\n",
       "    </tr>\n",
       "  </tbody>\n",
       "</table>\n",
       "</div>"
      ],
      "text/plain": [
       "     ID  AGE     EDUCATION    OCCUPATION  PINCODE PROD_CATEGORY  \\\n",
       "0  9354   27  masters_plus  salaried_pvt   495001          trad   \n",
       "1  9354   27  masters_plus  salaried_pvt   495001          trad   \n",
       "2  9354   27  masters_plus  salaried_pvt   495001          trad   \n",
       "3  9354   27  masters_plus  salaried_pvt   495001          trad   \n",
       "4  9354   27  masters_plus  salaried_pvt   495001          trad   \n",
       "\n",
       "   INCOME_SEGMENT PROSPERITY_INDEX_BAND  QUALITY_SCORE_BAND ISSUANCE_MONTH  \\\n",
       "0               5                  High                   6         Mar-22   \n",
       "1               5                  High                   6         Mar-22   \n",
       "2               5                  High                   6         Mar-22   \n",
       "3               5                  High                   6         Mar-22   \n",
       "4               5                  High                   6         Mar-22   \n",
       "\n",
       "      StateName  \n",
       "0  CHHATTISGARH  \n",
       "1  CHHATTISGARH  \n",
       "2  CHHATTISGARH  \n",
       "3  CHHATTISGARH  \n",
       "4  CHHATTISGARH  "
      ]
     },
     "execution_count": 20,
     "metadata": {},
     "output_type": "execute_result"
    }
   ],
   "source": [
    "bajaj.head()"
   ]
  },
  {
   "cell_type": "code",
   "execution_count": 21,
   "metadata": {},
   "outputs": [],
   "source": [
    "bajaj=bajaj.rename(columns={'StateName':'INDIAN_REGION'})"
   ]
  },
  {
   "cell_type": "code",
   "execution_count": 22,
   "metadata": {},
   "outputs": [],
   "source": [
    "bajaj['INDIAN_REGION'].replace(['ANDHRA PRADESH','TELANGANA','PUDUCHERRY','TAMIL NADU','KARNATAKA','KERALA'],'South',inplace=True)#regex=True,inplace=True)\n",
    "bajaj['INDIAN_REGION'].replace(['ARUNACHAL PRADESH','ODISHA','JHARKHAND','WEST BENGAL','BIHAR','ASSAM','MANIPUR','MEGHALAYA','MIZORAM','NAGALAND','SIKKIM','TRIPURA'],'East',inplace=True)#regex=True,)\n",
    "bajaj['INDIAN_REGION'].replace(['GOA', 'GUJARAT', 'MAHARASHTRA', 'THE DADRA AND NAGAR HAVELI AND DAMAN AND DIU'],'West',inplace=True)#,regex=True)\n",
    "bajaj['INDIAN_REGION'].replace(['JAMMU AND KASHMIR', 'HIMACHAL PRADESH', 'PUNJAB', 'UTTARAKHAND', 'HARYANA', 'DELHI', 'RAJASTHAN','UTTAR PRADESH', 'CHANDIGARH','LADAKH'],'North',inplace=True)#,regex=True)\n",
    "bajaj['INDIAN_REGION'].replace(['CHHATTISGARH', 'MADHYA PRADESH'],'Central',inplace=True)#,regex=True)"
   ]
  },
  {
   "cell_type": "code",
   "execution_count": 23,
   "metadata": {},
   "outputs": [
    {
     "data": {
      "text/html": [
       "<div>\n",
       "<style scoped>\n",
       "    .dataframe tbody tr th:only-of-type {\n",
       "        vertical-align: middle;\n",
       "    }\n",
       "\n",
       "    .dataframe tbody tr th {\n",
       "        vertical-align: top;\n",
       "    }\n",
       "\n",
       "    .dataframe thead th {\n",
       "        text-align: right;\n",
       "    }\n",
       "</style>\n",
       "<table border=\"1\" class=\"dataframe\">\n",
       "  <thead>\n",
       "    <tr style=\"text-align: right;\">\n",
       "      <th></th>\n",
       "      <th>ID</th>\n",
       "      <th>AGE</th>\n",
       "      <th>EDUCATION</th>\n",
       "      <th>OCCUPATION</th>\n",
       "      <th>PINCODE</th>\n",
       "      <th>PROD_CATEGORY</th>\n",
       "      <th>INCOME_SEGMENT</th>\n",
       "      <th>PROSPERITY_INDEX_BAND</th>\n",
       "      <th>QUALITY_SCORE_BAND</th>\n",
       "      <th>ISSUANCE_MONTH</th>\n",
       "      <th>INDIAN_REGION</th>\n",
       "    </tr>\n",
       "  </thead>\n",
       "  <tbody>\n",
       "    <tr>\n",
       "      <th>0</th>\n",
       "      <td>9354</td>\n",
       "      <td>27</td>\n",
       "      <td>masters_plus</td>\n",
       "      <td>salaried_pvt</td>\n",
       "      <td>495001</td>\n",
       "      <td>trad</td>\n",
       "      <td>5</td>\n",
       "      <td>High</td>\n",
       "      <td>6</td>\n",
       "      <td>Mar-22</td>\n",
       "      <td>Central</td>\n",
       "    </tr>\n",
       "    <tr>\n",
       "      <th>1</th>\n",
       "      <td>9354</td>\n",
       "      <td>27</td>\n",
       "      <td>masters_plus</td>\n",
       "      <td>salaried_pvt</td>\n",
       "      <td>495001</td>\n",
       "      <td>trad</td>\n",
       "      <td>5</td>\n",
       "      <td>High</td>\n",
       "      <td>6</td>\n",
       "      <td>Mar-22</td>\n",
       "      <td>Central</td>\n",
       "    </tr>\n",
       "    <tr>\n",
       "      <th>2</th>\n",
       "      <td>9354</td>\n",
       "      <td>27</td>\n",
       "      <td>masters_plus</td>\n",
       "      <td>salaried_pvt</td>\n",
       "      <td>495001</td>\n",
       "      <td>trad</td>\n",
       "      <td>5</td>\n",
       "      <td>High</td>\n",
       "      <td>6</td>\n",
       "      <td>Mar-22</td>\n",
       "      <td>Central</td>\n",
       "    </tr>\n",
       "    <tr>\n",
       "      <th>3</th>\n",
       "      <td>9354</td>\n",
       "      <td>27</td>\n",
       "      <td>masters_plus</td>\n",
       "      <td>salaried_pvt</td>\n",
       "      <td>495001</td>\n",
       "      <td>trad</td>\n",
       "      <td>5</td>\n",
       "      <td>High</td>\n",
       "      <td>6</td>\n",
       "      <td>Mar-22</td>\n",
       "      <td>Central</td>\n",
       "    </tr>\n",
       "    <tr>\n",
       "      <th>4</th>\n",
       "      <td>9354</td>\n",
       "      <td>27</td>\n",
       "      <td>masters_plus</td>\n",
       "      <td>salaried_pvt</td>\n",
       "      <td>495001</td>\n",
       "      <td>trad</td>\n",
       "      <td>5</td>\n",
       "      <td>High</td>\n",
       "      <td>6</td>\n",
       "      <td>Mar-22</td>\n",
       "      <td>Central</td>\n",
       "    </tr>\n",
       "  </tbody>\n",
       "</table>\n",
       "</div>"
      ],
      "text/plain": [
       "     ID  AGE     EDUCATION    OCCUPATION  PINCODE PROD_CATEGORY  \\\n",
       "0  9354   27  masters_plus  salaried_pvt   495001          trad   \n",
       "1  9354   27  masters_plus  salaried_pvt   495001          trad   \n",
       "2  9354   27  masters_plus  salaried_pvt   495001          trad   \n",
       "3  9354   27  masters_plus  salaried_pvt   495001          trad   \n",
       "4  9354   27  masters_plus  salaried_pvt   495001          trad   \n",
       "\n",
       "   INCOME_SEGMENT PROSPERITY_INDEX_BAND  QUALITY_SCORE_BAND ISSUANCE_MONTH  \\\n",
       "0               5                  High                   6         Mar-22   \n",
       "1               5                  High                   6         Mar-22   \n",
       "2               5                  High                   6         Mar-22   \n",
       "3               5                  High                   6         Mar-22   \n",
       "4               5                  High                   6         Mar-22   \n",
       "\n",
       "  INDIAN_REGION  \n",
       "0       Central  \n",
       "1       Central  \n",
       "2       Central  \n",
       "3       Central  \n",
       "4       Central  "
      ]
     },
     "execution_count": 23,
     "metadata": {},
     "output_type": "execute_result"
    }
   ],
   "source": [
    "bajaj.head()"
   ]
  },
  {
   "cell_type": "code",
   "execution_count": 24,
   "metadata": {},
   "outputs": [
    {
     "data": {
      "text/plain": [
       "North      16059\n",
       "East       14901\n",
       "West        6234\n",
       "Central     4759\n",
       "South       4246\n",
       "Name: INDIAN_REGION, dtype: int64"
      ]
     },
     "execution_count": 24,
     "metadata": {},
     "output_type": "execute_result"
    }
   ],
   "source": [
    "bajaj['INDIAN_REGION'].value_counts()"
   ]
  },
  {
   "cell_type": "code",
   "execution_count": 25,
   "metadata": {},
   "outputs": [
    {
     "data": {
      "text/plain": [
       "0    Mar-22\n",
       "1    Mar-22\n",
       "2    Mar-22\n",
       "3    Mar-22\n",
       "4    Mar-22\n",
       "Name: ISSUANCE_MONTH, dtype: object"
      ]
     },
     "execution_count": 25,
     "metadata": {},
     "output_type": "execute_result"
    }
   ],
   "source": [
    "bajaj['ISSUANCE_MONTH'].head()"
   ]
  },
  {
   "cell_type": "code",
   "execution_count": 26,
   "metadata": {},
   "outputs": [],
   "source": [
    "bajaj[['ISSUANCE_MONTH','ISSUANCE_YEAR']]=bajaj['ISSUANCE_MONTH'].str.split('-',expand=True)"
   ]
  },
  {
   "cell_type": "code",
   "execution_count": 27,
   "metadata": {},
   "outputs": [
    {
     "data": {
      "text/html": [
       "<div>\n",
       "<style scoped>\n",
       "    .dataframe tbody tr th:only-of-type {\n",
       "        vertical-align: middle;\n",
       "    }\n",
       "\n",
       "    .dataframe tbody tr th {\n",
       "        vertical-align: top;\n",
       "    }\n",
       "\n",
       "    .dataframe thead th {\n",
       "        text-align: right;\n",
       "    }\n",
       "</style>\n",
       "<table border=\"1\" class=\"dataframe\">\n",
       "  <thead>\n",
       "    <tr style=\"text-align: right;\">\n",
       "      <th></th>\n",
       "      <th>ID</th>\n",
       "      <th>AGE</th>\n",
       "      <th>EDUCATION</th>\n",
       "      <th>OCCUPATION</th>\n",
       "      <th>PINCODE</th>\n",
       "      <th>PROD_CATEGORY</th>\n",
       "      <th>INCOME_SEGMENT</th>\n",
       "      <th>PROSPERITY_INDEX_BAND</th>\n",
       "      <th>QUALITY_SCORE_BAND</th>\n",
       "      <th>ISSUANCE_MONTH</th>\n",
       "      <th>INDIAN_REGION</th>\n",
       "      <th>ISSUANCE_YEAR</th>\n",
       "    </tr>\n",
       "  </thead>\n",
       "  <tbody>\n",
       "    <tr>\n",
       "      <th>0</th>\n",
       "      <td>9354</td>\n",
       "      <td>27</td>\n",
       "      <td>masters_plus</td>\n",
       "      <td>salaried_pvt</td>\n",
       "      <td>495001</td>\n",
       "      <td>trad</td>\n",
       "      <td>5</td>\n",
       "      <td>High</td>\n",
       "      <td>6</td>\n",
       "      <td>Mar</td>\n",
       "      <td>Central</td>\n",
       "      <td>22</td>\n",
       "    </tr>\n",
       "    <tr>\n",
       "      <th>1</th>\n",
       "      <td>9354</td>\n",
       "      <td>27</td>\n",
       "      <td>masters_plus</td>\n",
       "      <td>salaried_pvt</td>\n",
       "      <td>495001</td>\n",
       "      <td>trad</td>\n",
       "      <td>5</td>\n",
       "      <td>High</td>\n",
       "      <td>6</td>\n",
       "      <td>Mar</td>\n",
       "      <td>Central</td>\n",
       "      <td>22</td>\n",
       "    </tr>\n",
       "    <tr>\n",
       "      <th>2</th>\n",
       "      <td>9354</td>\n",
       "      <td>27</td>\n",
       "      <td>masters_plus</td>\n",
       "      <td>salaried_pvt</td>\n",
       "      <td>495001</td>\n",
       "      <td>trad</td>\n",
       "      <td>5</td>\n",
       "      <td>High</td>\n",
       "      <td>6</td>\n",
       "      <td>Mar</td>\n",
       "      <td>Central</td>\n",
       "      <td>22</td>\n",
       "    </tr>\n",
       "    <tr>\n",
       "      <th>3</th>\n",
       "      <td>9354</td>\n",
       "      <td>27</td>\n",
       "      <td>masters_plus</td>\n",
       "      <td>salaried_pvt</td>\n",
       "      <td>495001</td>\n",
       "      <td>trad</td>\n",
       "      <td>5</td>\n",
       "      <td>High</td>\n",
       "      <td>6</td>\n",
       "      <td>Mar</td>\n",
       "      <td>Central</td>\n",
       "      <td>22</td>\n",
       "    </tr>\n",
       "    <tr>\n",
       "      <th>4</th>\n",
       "      <td>9354</td>\n",
       "      <td>27</td>\n",
       "      <td>masters_plus</td>\n",
       "      <td>salaried_pvt</td>\n",
       "      <td>495001</td>\n",
       "      <td>trad</td>\n",
       "      <td>5</td>\n",
       "      <td>High</td>\n",
       "      <td>6</td>\n",
       "      <td>Mar</td>\n",
       "      <td>Central</td>\n",
       "      <td>22</td>\n",
       "    </tr>\n",
       "  </tbody>\n",
       "</table>\n",
       "</div>"
      ],
      "text/plain": [
       "     ID  AGE     EDUCATION    OCCUPATION  PINCODE PROD_CATEGORY  \\\n",
       "0  9354   27  masters_plus  salaried_pvt   495001          trad   \n",
       "1  9354   27  masters_plus  salaried_pvt   495001          trad   \n",
       "2  9354   27  masters_plus  salaried_pvt   495001          trad   \n",
       "3  9354   27  masters_plus  salaried_pvt   495001          trad   \n",
       "4  9354   27  masters_plus  salaried_pvt   495001          trad   \n",
       "\n",
       "   INCOME_SEGMENT PROSPERITY_INDEX_BAND  QUALITY_SCORE_BAND ISSUANCE_MONTH  \\\n",
       "0               5                  High                   6            Mar   \n",
       "1               5                  High                   6            Mar   \n",
       "2               5                  High                   6            Mar   \n",
       "3               5                  High                   6            Mar   \n",
       "4               5                  High                   6            Mar   \n",
       "\n",
       "  INDIAN_REGION ISSUANCE_YEAR  \n",
       "0       Central            22  \n",
       "1       Central            22  \n",
       "2       Central            22  \n",
       "3       Central            22  \n",
       "4       Central            22  "
      ]
     },
     "execution_count": 27,
     "metadata": {},
     "output_type": "execute_result"
    }
   ],
   "source": [
    "bajaj.head()"
   ]
  },
  {
   "cell_type": "code",
   "execution_count": 28,
   "metadata": {},
   "outputs": [
    {
     "data": {
      "text/plain": [
       "21    29169\n",
       "22    17084\n",
       "Name: ISSUANCE_YEAR, dtype: int64"
      ]
     },
     "execution_count": 28,
     "metadata": {},
     "output_type": "execute_result"
    }
   ],
   "source": [
    "bajaj['ISSUANCE_YEAR'].value_counts()"
   ]
  },
  {
   "cell_type": "code",
   "execution_count": 29,
   "metadata": {},
   "outputs": [],
   "source": [
    "bajaj['ISSUANCE_YEAR']=bajaj['ISSUANCE_YEAR'].map({'21':2021,'22':2022})"
   ]
  },
  {
   "cell_type": "code",
   "execution_count": 30,
   "metadata": {},
   "outputs": [
    {
     "data": {
      "text/plain": [
       "0    2022\n",
       "1    2022\n",
       "2    2022\n",
       "3    2022\n",
       "4    2022\n",
       "Name: ISSUANCE_YEAR, dtype: int64"
      ]
     },
     "execution_count": 30,
     "metadata": {},
     "output_type": "execute_result"
    }
   ],
   "source": [
    "bajaj['ISSUANCE_YEAR'].head()"
   ]
  },
  {
   "cell_type": "code",
   "execution_count": 31,
   "metadata": {},
   "outputs": [
    {
     "data": {
      "text/plain": [
       "2021    29169\n",
       "2022    17084\n",
       "Name: ISSUANCE_YEAR, dtype: int64"
      ]
     },
     "execution_count": 31,
     "metadata": {},
     "output_type": "execute_result"
    }
   ],
   "source": [
    "bajaj['ISSUANCE_YEAR'].value_counts()"
   ]
  },
  {
   "cell_type": "code",
   "execution_count": 32,
   "metadata": {},
   "outputs": [
    {
     "data": {
      "text/plain": [
       "dtype('O')"
      ]
     },
     "execution_count": 32,
     "metadata": {},
     "output_type": "execute_result"
    }
   ],
   "source": [
    "bajaj['ISSUANCE_MONTH'].dtype"
   ]
  },
  {
   "cell_type": "code",
   "execution_count": 33,
   "metadata": {},
   "outputs": [],
   "source": [
    "bajaj['ISSUANCE_MONTH']=bajaj['ISSUANCE_MONTH'].map({'Jan':'01','Feb':'02','Mar':'03','Apr':'04','May':'05',\n",
    "                                                 'Jun':'06','Jul':'07','Aug':'08',\n",
    "                                                 'Sep':'09','Oct':'10','Nov':'11','Dec':'12'})"
   ]
  },
  {
   "cell_type": "code",
   "execution_count": 34,
   "metadata": {},
   "outputs": [
    {
     "data": {
      "text/html": [
       "<div>\n",
       "<style scoped>\n",
       "    .dataframe tbody tr th:only-of-type {\n",
       "        vertical-align: middle;\n",
       "    }\n",
       "\n",
       "    .dataframe tbody tr th {\n",
       "        vertical-align: top;\n",
       "    }\n",
       "\n",
       "    .dataframe thead th {\n",
       "        text-align: right;\n",
       "    }\n",
       "</style>\n",
       "<table border=\"1\" class=\"dataframe\">\n",
       "  <thead>\n",
       "    <tr style=\"text-align: right;\">\n",
       "      <th></th>\n",
       "      <th>ID</th>\n",
       "      <th>AGE</th>\n",
       "      <th>EDUCATION</th>\n",
       "      <th>OCCUPATION</th>\n",
       "      <th>PINCODE</th>\n",
       "      <th>PROD_CATEGORY</th>\n",
       "      <th>INCOME_SEGMENT</th>\n",
       "      <th>PROSPERITY_INDEX_BAND</th>\n",
       "      <th>QUALITY_SCORE_BAND</th>\n",
       "      <th>ISSUANCE_MONTH</th>\n",
       "      <th>INDIAN_REGION</th>\n",
       "      <th>ISSUANCE_YEAR</th>\n",
       "    </tr>\n",
       "  </thead>\n",
       "  <tbody>\n",
       "    <tr>\n",
       "      <th>0</th>\n",
       "      <td>9354</td>\n",
       "      <td>27</td>\n",
       "      <td>masters_plus</td>\n",
       "      <td>salaried_pvt</td>\n",
       "      <td>495001</td>\n",
       "      <td>trad</td>\n",
       "      <td>5</td>\n",
       "      <td>High</td>\n",
       "      <td>6</td>\n",
       "      <td>03</td>\n",
       "      <td>Central</td>\n",
       "      <td>2022</td>\n",
       "    </tr>\n",
       "    <tr>\n",
       "      <th>1</th>\n",
       "      <td>9354</td>\n",
       "      <td>27</td>\n",
       "      <td>masters_plus</td>\n",
       "      <td>salaried_pvt</td>\n",
       "      <td>495001</td>\n",
       "      <td>trad</td>\n",
       "      <td>5</td>\n",
       "      <td>High</td>\n",
       "      <td>6</td>\n",
       "      <td>03</td>\n",
       "      <td>Central</td>\n",
       "      <td>2022</td>\n",
       "    </tr>\n",
       "    <tr>\n",
       "      <th>2</th>\n",
       "      <td>9354</td>\n",
       "      <td>27</td>\n",
       "      <td>masters_plus</td>\n",
       "      <td>salaried_pvt</td>\n",
       "      <td>495001</td>\n",
       "      <td>trad</td>\n",
       "      <td>5</td>\n",
       "      <td>High</td>\n",
       "      <td>6</td>\n",
       "      <td>03</td>\n",
       "      <td>Central</td>\n",
       "      <td>2022</td>\n",
       "    </tr>\n",
       "    <tr>\n",
       "      <th>3</th>\n",
       "      <td>9354</td>\n",
       "      <td>27</td>\n",
       "      <td>masters_plus</td>\n",
       "      <td>salaried_pvt</td>\n",
       "      <td>495001</td>\n",
       "      <td>trad</td>\n",
       "      <td>5</td>\n",
       "      <td>High</td>\n",
       "      <td>6</td>\n",
       "      <td>03</td>\n",
       "      <td>Central</td>\n",
       "      <td>2022</td>\n",
       "    </tr>\n",
       "    <tr>\n",
       "      <th>4</th>\n",
       "      <td>9354</td>\n",
       "      <td>27</td>\n",
       "      <td>masters_plus</td>\n",
       "      <td>salaried_pvt</td>\n",
       "      <td>495001</td>\n",
       "      <td>trad</td>\n",
       "      <td>5</td>\n",
       "      <td>High</td>\n",
       "      <td>6</td>\n",
       "      <td>03</td>\n",
       "      <td>Central</td>\n",
       "      <td>2022</td>\n",
       "    </tr>\n",
       "  </tbody>\n",
       "</table>\n",
       "</div>"
      ],
      "text/plain": [
       "     ID  AGE     EDUCATION    OCCUPATION  PINCODE PROD_CATEGORY  \\\n",
       "0  9354   27  masters_plus  salaried_pvt   495001          trad   \n",
       "1  9354   27  masters_plus  salaried_pvt   495001          trad   \n",
       "2  9354   27  masters_plus  salaried_pvt   495001          trad   \n",
       "3  9354   27  masters_plus  salaried_pvt   495001          trad   \n",
       "4  9354   27  masters_plus  salaried_pvt   495001          trad   \n",
       "\n",
       "   INCOME_SEGMENT PROSPERITY_INDEX_BAND  QUALITY_SCORE_BAND ISSUANCE_MONTH  \\\n",
       "0               5                  High                   6             03   \n",
       "1               5                  High                   6             03   \n",
       "2               5                  High                   6             03   \n",
       "3               5                  High                   6             03   \n",
       "4               5                  High                   6             03   \n",
       "\n",
       "  INDIAN_REGION  ISSUANCE_YEAR  \n",
       "0       Central           2022  \n",
       "1       Central           2022  \n",
       "2       Central           2022  \n",
       "3       Central           2022  \n",
       "4       Central           2022  "
      ]
     },
     "execution_count": 34,
     "metadata": {},
     "output_type": "execute_result"
    }
   ],
   "source": [
    "bajaj.head()"
   ]
  },
  {
   "cell_type": "code",
   "execution_count": 35,
   "metadata": {},
   "outputs": [],
   "source": [
    "bajaj['ISSUANCE_YEAR']=bajaj['ISSUANCE_YEAR'].astype(str)"
   ]
  },
  {
   "cell_type": "code",
   "execution_count": 36,
   "metadata": {},
   "outputs": [],
   "source": [
    "cols=['ISSUANCE_MONTH','ISSUANCE_YEAR']\n",
    "bajaj['ISSU_MONTH_YEAR']=bajaj[cols].apply(lambda row:'-'.join(row.values),axis=1)"
   ]
  },
  {
   "cell_type": "code",
   "execution_count": 37,
   "metadata": {},
   "outputs": [
    {
     "data": {
      "text/html": [
       "<div>\n",
       "<style scoped>\n",
       "    .dataframe tbody tr th:only-of-type {\n",
       "        vertical-align: middle;\n",
       "    }\n",
       "\n",
       "    .dataframe tbody tr th {\n",
       "        vertical-align: top;\n",
       "    }\n",
       "\n",
       "    .dataframe thead th {\n",
       "        text-align: right;\n",
       "    }\n",
       "</style>\n",
       "<table border=\"1\" class=\"dataframe\">\n",
       "  <thead>\n",
       "    <tr style=\"text-align: right;\">\n",
       "      <th></th>\n",
       "      <th>ID</th>\n",
       "      <th>AGE</th>\n",
       "      <th>EDUCATION</th>\n",
       "      <th>OCCUPATION</th>\n",
       "      <th>PINCODE</th>\n",
       "      <th>PROD_CATEGORY</th>\n",
       "      <th>INCOME_SEGMENT</th>\n",
       "      <th>PROSPERITY_INDEX_BAND</th>\n",
       "      <th>QUALITY_SCORE_BAND</th>\n",
       "      <th>ISSUANCE_MONTH</th>\n",
       "      <th>INDIAN_REGION</th>\n",
       "      <th>ISSUANCE_YEAR</th>\n",
       "      <th>ISSU_MONTH_YEAR</th>\n",
       "    </tr>\n",
       "  </thead>\n",
       "  <tbody>\n",
       "    <tr>\n",
       "      <th>0</th>\n",
       "      <td>9354</td>\n",
       "      <td>27</td>\n",
       "      <td>masters_plus</td>\n",
       "      <td>salaried_pvt</td>\n",
       "      <td>495001</td>\n",
       "      <td>trad</td>\n",
       "      <td>5</td>\n",
       "      <td>High</td>\n",
       "      <td>6</td>\n",
       "      <td>03</td>\n",
       "      <td>Central</td>\n",
       "      <td>2022</td>\n",
       "      <td>03-2022</td>\n",
       "    </tr>\n",
       "    <tr>\n",
       "      <th>1</th>\n",
       "      <td>9354</td>\n",
       "      <td>27</td>\n",
       "      <td>masters_plus</td>\n",
       "      <td>salaried_pvt</td>\n",
       "      <td>495001</td>\n",
       "      <td>trad</td>\n",
       "      <td>5</td>\n",
       "      <td>High</td>\n",
       "      <td>6</td>\n",
       "      <td>03</td>\n",
       "      <td>Central</td>\n",
       "      <td>2022</td>\n",
       "      <td>03-2022</td>\n",
       "    </tr>\n",
       "    <tr>\n",
       "      <th>2</th>\n",
       "      <td>9354</td>\n",
       "      <td>27</td>\n",
       "      <td>masters_plus</td>\n",
       "      <td>salaried_pvt</td>\n",
       "      <td>495001</td>\n",
       "      <td>trad</td>\n",
       "      <td>5</td>\n",
       "      <td>High</td>\n",
       "      <td>6</td>\n",
       "      <td>03</td>\n",
       "      <td>Central</td>\n",
       "      <td>2022</td>\n",
       "      <td>03-2022</td>\n",
       "    </tr>\n",
       "    <tr>\n",
       "      <th>3</th>\n",
       "      <td>9354</td>\n",
       "      <td>27</td>\n",
       "      <td>masters_plus</td>\n",
       "      <td>salaried_pvt</td>\n",
       "      <td>495001</td>\n",
       "      <td>trad</td>\n",
       "      <td>5</td>\n",
       "      <td>High</td>\n",
       "      <td>6</td>\n",
       "      <td>03</td>\n",
       "      <td>Central</td>\n",
       "      <td>2022</td>\n",
       "      <td>03-2022</td>\n",
       "    </tr>\n",
       "    <tr>\n",
       "      <th>4</th>\n",
       "      <td>9354</td>\n",
       "      <td>27</td>\n",
       "      <td>masters_plus</td>\n",
       "      <td>salaried_pvt</td>\n",
       "      <td>495001</td>\n",
       "      <td>trad</td>\n",
       "      <td>5</td>\n",
       "      <td>High</td>\n",
       "      <td>6</td>\n",
       "      <td>03</td>\n",
       "      <td>Central</td>\n",
       "      <td>2022</td>\n",
       "      <td>03-2022</td>\n",
       "    </tr>\n",
       "  </tbody>\n",
       "</table>\n",
       "</div>"
      ],
      "text/plain": [
       "     ID  AGE     EDUCATION    OCCUPATION  PINCODE PROD_CATEGORY  \\\n",
       "0  9354   27  masters_plus  salaried_pvt   495001          trad   \n",
       "1  9354   27  masters_plus  salaried_pvt   495001          trad   \n",
       "2  9354   27  masters_plus  salaried_pvt   495001          trad   \n",
       "3  9354   27  masters_plus  salaried_pvt   495001          trad   \n",
       "4  9354   27  masters_plus  salaried_pvt   495001          trad   \n",
       "\n",
       "   INCOME_SEGMENT PROSPERITY_INDEX_BAND  QUALITY_SCORE_BAND ISSUANCE_MONTH  \\\n",
       "0               5                  High                   6             03   \n",
       "1               5                  High                   6             03   \n",
       "2               5                  High                   6             03   \n",
       "3               5                  High                   6             03   \n",
       "4               5                  High                   6             03   \n",
       "\n",
       "  INDIAN_REGION ISSUANCE_YEAR ISSU_MONTH_YEAR  \n",
       "0       Central          2022         03-2022  \n",
       "1       Central          2022         03-2022  \n",
       "2       Central          2022         03-2022  \n",
       "3       Central          2022         03-2022  \n",
       "4       Central          2022         03-2022  "
      ]
     },
     "execution_count": 37,
     "metadata": {},
     "output_type": "execute_result"
    }
   ],
   "source": [
    "bajaj.head()"
   ]
  },
  {
   "cell_type": "code",
   "execution_count": 38,
   "metadata": {},
   "outputs": [],
   "source": [
    "bajaj.ISSU_MONTH_YEAR=pd.to_datetime(bajaj.ISSU_MONTH_YEAR)\n",
    "bajaj['QTR'] = pd.to_datetime(bajaj.ISSU_MONTH_YEAR).dt.quarter"
   ]
  },
  {
   "cell_type": "code",
   "execution_count": 39,
   "metadata": {},
   "outputs": [
    {
     "data": {
      "text/html": [
       "<div>\n",
       "<style scoped>\n",
       "    .dataframe tbody tr th:only-of-type {\n",
       "        vertical-align: middle;\n",
       "    }\n",
       "\n",
       "    .dataframe tbody tr th {\n",
       "        vertical-align: top;\n",
       "    }\n",
       "\n",
       "    .dataframe thead th {\n",
       "        text-align: right;\n",
       "    }\n",
       "</style>\n",
       "<table border=\"1\" class=\"dataframe\">\n",
       "  <thead>\n",
       "    <tr style=\"text-align: right;\">\n",
       "      <th></th>\n",
       "      <th>ID</th>\n",
       "      <th>AGE</th>\n",
       "      <th>EDUCATION</th>\n",
       "      <th>OCCUPATION</th>\n",
       "      <th>PINCODE</th>\n",
       "      <th>PROD_CATEGORY</th>\n",
       "      <th>INCOME_SEGMENT</th>\n",
       "      <th>PROSPERITY_INDEX_BAND</th>\n",
       "      <th>QUALITY_SCORE_BAND</th>\n",
       "      <th>ISSUANCE_MONTH</th>\n",
       "      <th>INDIAN_REGION</th>\n",
       "      <th>ISSUANCE_YEAR</th>\n",
       "      <th>ISSU_MONTH_YEAR</th>\n",
       "      <th>QTR</th>\n",
       "    </tr>\n",
       "  </thead>\n",
       "  <tbody>\n",
       "    <tr>\n",
       "      <th>0</th>\n",
       "      <td>9354</td>\n",
       "      <td>27</td>\n",
       "      <td>masters_plus</td>\n",
       "      <td>salaried_pvt</td>\n",
       "      <td>495001</td>\n",
       "      <td>trad</td>\n",
       "      <td>5</td>\n",
       "      <td>High</td>\n",
       "      <td>6</td>\n",
       "      <td>03</td>\n",
       "      <td>Central</td>\n",
       "      <td>2022</td>\n",
       "      <td>2022-03-01</td>\n",
       "      <td>1</td>\n",
       "    </tr>\n",
       "    <tr>\n",
       "      <th>1</th>\n",
       "      <td>9354</td>\n",
       "      <td>27</td>\n",
       "      <td>masters_plus</td>\n",
       "      <td>salaried_pvt</td>\n",
       "      <td>495001</td>\n",
       "      <td>trad</td>\n",
       "      <td>5</td>\n",
       "      <td>High</td>\n",
       "      <td>6</td>\n",
       "      <td>03</td>\n",
       "      <td>Central</td>\n",
       "      <td>2022</td>\n",
       "      <td>2022-03-01</td>\n",
       "      <td>1</td>\n",
       "    </tr>\n",
       "    <tr>\n",
       "      <th>2</th>\n",
       "      <td>9354</td>\n",
       "      <td>27</td>\n",
       "      <td>masters_plus</td>\n",
       "      <td>salaried_pvt</td>\n",
       "      <td>495001</td>\n",
       "      <td>trad</td>\n",
       "      <td>5</td>\n",
       "      <td>High</td>\n",
       "      <td>6</td>\n",
       "      <td>03</td>\n",
       "      <td>Central</td>\n",
       "      <td>2022</td>\n",
       "      <td>2022-03-01</td>\n",
       "      <td>1</td>\n",
       "    </tr>\n",
       "    <tr>\n",
       "      <th>3</th>\n",
       "      <td>9354</td>\n",
       "      <td>27</td>\n",
       "      <td>masters_plus</td>\n",
       "      <td>salaried_pvt</td>\n",
       "      <td>495001</td>\n",
       "      <td>trad</td>\n",
       "      <td>5</td>\n",
       "      <td>High</td>\n",
       "      <td>6</td>\n",
       "      <td>03</td>\n",
       "      <td>Central</td>\n",
       "      <td>2022</td>\n",
       "      <td>2022-03-01</td>\n",
       "      <td>1</td>\n",
       "    </tr>\n",
       "    <tr>\n",
       "      <th>4</th>\n",
       "      <td>9354</td>\n",
       "      <td>27</td>\n",
       "      <td>masters_plus</td>\n",
       "      <td>salaried_pvt</td>\n",
       "      <td>495001</td>\n",
       "      <td>trad</td>\n",
       "      <td>5</td>\n",
       "      <td>High</td>\n",
       "      <td>6</td>\n",
       "      <td>03</td>\n",
       "      <td>Central</td>\n",
       "      <td>2022</td>\n",
       "      <td>2022-03-01</td>\n",
       "      <td>1</td>\n",
       "    </tr>\n",
       "  </tbody>\n",
       "</table>\n",
       "</div>"
      ],
      "text/plain": [
       "     ID  AGE     EDUCATION    OCCUPATION  PINCODE PROD_CATEGORY  \\\n",
       "0  9354   27  masters_plus  salaried_pvt   495001          trad   \n",
       "1  9354   27  masters_plus  salaried_pvt   495001          trad   \n",
       "2  9354   27  masters_plus  salaried_pvt   495001          trad   \n",
       "3  9354   27  masters_plus  salaried_pvt   495001          trad   \n",
       "4  9354   27  masters_plus  salaried_pvt   495001          trad   \n",
       "\n",
       "   INCOME_SEGMENT PROSPERITY_INDEX_BAND  QUALITY_SCORE_BAND ISSUANCE_MONTH  \\\n",
       "0               5                  High                   6             03   \n",
       "1               5                  High                   6             03   \n",
       "2               5                  High                   6             03   \n",
       "3               5                  High                   6             03   \n",
       "4               5                  High                   6             03   \n",
       "\n",
       "  INDIAN_REGION ISSUANCE_YEAR ISSU_MONTH_YEAR  QTR  \n",
       "0       Central          2022      2022-03-01    1  \n",
       "1       Central          2022      2022-03-01    1  \n",
       "2       Central          2022      2022-03-01    1  \n",
       "3       Central          2022      2022-03-01    1  \n",
       "4       Central          2022      2022-03-01    1  "
      ]
     },
     "execution_count": 39,
     "metadata": {},
     "output_type": "execute_result"
    }
   ],
   "source": [
    "bajaj.head()"
   ]
  },
  {
   "cell_type": "code",
   "execution_count": 40,
   "metadata": {},
   "outputs": [],
   "source": [
    "cols=['ISSUANCE_MONTH','ISSU_MONTH_YEAR']\n",
    "bajaj.drop(cols,axis=1,inplace=True)"
   ]
  },
  {
   "cell_type": "code",
   "execution_count": 41,
   "metadata": {},
   "outputs": [
    {
     "data": {
      "text/html": [
       "<div>\n",
       "<style scoped>\n",
       "    .dataframe tbody tr th:only-of-type {\n",
       "        vertical-align: middle;\n",
       "    }\n",
       "\n",
       "    .dataframe tbody tr th {\n",
       "        vertical-align: top;\n",
       "    }\n",
       "\n",
       "    .dataframe thead th {\n",
       "        text-align: right;\n",
       "    }\n",
       "</style>\n",
       "<table border=\"1\" class=\"dataframe\">\n",
       "  <thead>\n",
       "    <tr style=\"text-align: right;\">\n",
       "      <th></th>\n",
       "      <th>ID</th>\n",
       "      <th>AGE</th>\n",
       "      <th>EDUCATION</th>\n",
       "      <th>OCCUPATION</th>\n",
       "      <th>PINCODE</th>\n",
       "      <th>PROD_CATEGORY</th>\n",
       "      <th>INCOME_SEGMENT</th>\n",
       "      <th>PROSPERITY_INDEX_BAND</th>\n",
       "      <th>QUALITY_SCORE_BAND</th>\n",
       "      <th>INDIAN_REGION</th>\n",
       "      <th>ISSUANCE_YEAR</th>\n",
       "      <th>QTR</th>\n",
       "    </tr>\n",
       "  </thead>\n",
       "  <tbody>\n",
       "    <tr>\n",
       "      <th>0</th>\n",
       "      <td>9354</td>\n",
       "      <td>27</td>\n",
       "      <td>masters_plus</td>\n",
       "      <td>salaried_pvt</td>\n",
       "      <td>495001</td>\n",
       "      <td>trad</td>\n",
       "      <td>5</td>\n",
       "      <td>High</td>\n",
       "      <td>6</td>\n",
       "      <td>Central</td>\n",
       "      <td>2022</td>\n",
       "      <td>1</td>\n",
       "    </tr>\n",
       "    <tr>\n",
       "      <th>1</th>\n",
       "      <td>9354</td>\n",
       "      <td>27</td>\n",
       "      <td>masters_plus</td>\n",
       "      <td>salaried_pvt</td>\n",
       "      <td>495001</td>\n",
       "      <td>trad</td>\n",
       "      <td>5</td>\n",
       "      <td>High</td>\n",
       "      <td>6</td>\n",
       "      <td>Central</td>\n",
       "      <td>2022</td>\n",
       "      <td>1</td>\n",
       "    </tr>\n",
       "    <tr>\n",
       "      <th>2</th>\n",
       "      <td>9354</td>\n",
       "      <td>27</td>\n",
       "      <td>masters_plus</td>\n",
       "      <td>salaried_pvt</td>\n",
       "      <td>495001</td>\n",
       "      <td>trad</td>\n",
       "      <td>5</td>\n",
       "      <td>High</td>\n",
       "      <td>6</td>\n",
       "      <td>Central</td>\n",
       "      <td>2022</td>\n",
       "      <td>1</td>\n",
       "    </tr>\n",
       "    <tr>\n",
       "      <th>3</th>\n",
       "      <td>9354</td>\n",
       "      <td>27</td>\n",
       "      <td>masters_plus</td>\n",
       "      <td>salaried_pvt</td>\n",
       "      <td>495001</td>\n",
       "      <td>trad</td>\n",
       "      <td>5</td>\n",
       "      <td>High</td>\n",
       "      <td>6</td>\n",
       "      <td>Central</td>\n",
       "      <td>2022</td>\n",
       "      <td>1</td>\n",
       "    </tr>\n",
       "    <tr>\n",
       "      <th>4</th>\n",
       "      <td>9354</td>\n",
       "      <td>27</td>\n",
       "      <td>masters_plus</td>\n",
       "      <td>salaried_pvt</td>\n",
       "      <td>495001</td>\n",
       "      <td>trad</td>\n",
       "      <td>5</td>\n",
       "      <td>High</td>\n",
       "      <td>6</td>\n",
       "      <td>Central</td>\n",
       "      <td>2022</td>\n",
       "      <td>1</td>\n",
       "    </tr>\n",
       "  </tbody>\n",
       "</table>\n",
       "</div>"
      ],
      "text/plain": [
       "     ID  AGE     EDUCATION    OCCUPATION  PINCODE PROD_CATEGORY  \\\n",
       "0  9354   27  masters_plus  salaried_pvt   495001          trad   \n",
       "1  9354   27  masters_plus  salaried_pvt   495001          trad   \n",
       "2  9354   27  masters_plus  salaried_pvt   495001          trad   \n",
       "3  9354   27  masters_plus  salaried_pvt   495001          trad   \n",
       "4  9354   27  masters_plus  salaried_pvt   495001          trad   \n",
       "\n",
       "   INCOME_SEGMENT PROSPERITY_INDEX_BAND  QUALITY_SCORE_BAND INDIAN_REGION  \\\n",
       "0               5                  High                   6       Central   \n",
       "1               5                  High                   6       Central   \n",
       "2               5                  High                   6       Central   \n",
       "3               5                  High                   6       Central   \n",
       "4               5                  High                   6       Central   \n",
       "\n",
       "  ISSUANCE_YEAR  QTR  \n",
       "0          2022    1  \n",
       "1          2022    1  \n",
       "2          2022    1  \n",
       "3          2022    1  \n",
       "4          2022    1  "
      ]
     },
     "execution_count": 41,
     "metadata": {},
     "output_type": "execute_result"
    }
   ],
   "source": [
    "bajaj.head()"
   ]
  },
  {
   "cell_type": "code",
   "execution_count": 42,
   "metadata": {},
   "outputs": [],
   "source": [
    "bajaj=bajaj.drop(['ID','PINCODE'],axis=1)"
   ]
  },
  {
   "cell_type": "code",
   "execution_count": 43,
   "metadata": {},
   "outputs": [
    {
     "data": {
      "text/plain": [
       "graduate_plus        25749\n",
       "matriculation         7258\n",
       "higher_secondary      4612\n",
       "missing               3480\n",
       "masters_plus          3085\n",
       "non_matriculation     2069\n",
       "Name: EDUCATION, dtype: int64"
      ]
     },
     "execution_count": 43,
     "metadata": {},
     "output_type": "execute_result"
    }
   ],
   "source": [
    "bajaj['EDUCATION'].value_counts()"
   ]
  },
  {
   "cell_type": "code",
   "execution_count": 44,
   "metadata": {},
   "outputs": [
    {
     "data": {
      "text/plain": [
       "7.523836291699998"
      ]
     },
     "execution_count": 44,
     "metadata": {},
     "output_type": "execute_result"
    }
   ],
   "source": [
    "(((bajaj['EDUCATION']=='missing').sum())/len(bajaj))*100"
   ]
  },
  {
   "cell_type": "code",
   "execution_count": 45,
   "metadata": {},
   "outputs": [],
   "source": [
    "bajaj.drop(bajaj[bajaj['EDUCATION'] =='missing'].index, inplace = True)"
   ]
  },
  {
   "cell_type": "code",
   "execution_count": 46,
   "metadata": {},
   "outputs": [],
   "source": [
    "bajaj['EDUCATION']=bajaj['EDUCATION'].astype(str)"
   ]
  },
  {
   "cell_type": "code",
   "execution_count": 47,
   "metadata": {},
   "outputs": [
    {
     "data": {
      "text/plain": [
       "0    masters_plus\n",
       "1    masters_plus\n",
       "2    masters_plus\n",
       "3    masters_plus\n",
       "4    masters_plus\n",
       "Name: EDUCATION, dtype: object"
      ]
     },
     "execution_count": 47,
     "metadata": {},
     "output_type": "execute_result"
    }
   ],
   "source": [
    "bajaj['EDUCATION'].head()"
   ]
  },
  {
   "cell_type": "code",
   "execution_count": 48,
   "metadata": {},
   "outputs": [
    {
     "data": {
      "text/plain": [
       "business         21528\n",
       "salaried_pvt      8874\n",
       "agriculture       4977\n",
       "salaried_govt     4057\n",
       "professional      2089\n",
       "retired            588\n",
       "housewife          536\n",
       "missing             88\n",
       "student             34\n",
       "salaried             2\n",
       "Name: OCCUPATION, dtype: int64"
      ]
     },
     "execution_count": 48,
     "metadata": {},
     "output_type": "execute_result"
    }
   ],
   "source": [
    "bajaj['OCCUPATION'].value_counts()"
   ]
  },
  {
   "cell_type": "code",
   "execution_count": 49,
   "metadata": {},
   "outputs": [
    {
     "data": {
      "text/plain": [
       "0.20573726416197136"
      ]
     },
     "execution_count": 49,
     "metadata": {},
     "output_type": "execute_result"
    }
   ],
   "source": [
    "(((bajaj['OCCUPATION']=='missing').sum())/len(bajaj))*100"
   ]
  },
  {
   "cell_type": "code",
   "execution_count": 50,
   "metadata": {},
   "outputs": [],
   "source": [
    "bajaj.drop(bajaj[bajaj['OCCUPATION'] =='missing'].index, inplace = True)"
   ]
  },
  {
   "cell_type": "code",
   "execution_count": 51,
   "metadata": {},
   "outputs": [],
   "source": [
    "bajaj['OCCUPATION']=bajaj['OCCUPATION'].astype(str)"
   ]
  },
  {
   "cell_type": "code",
   "execution_count": 52,
   "metadata": {},
   "outputs": [
    {
     "data": {
      "text/plain": [
       "0    salaried_pvt\n",
       "1    salaried_pvt\n",
       "2    salaried_pvt\n",
       "3    salaried_pvt\n",
       "4    salaried_pvt\n",
       "Name: OCCUPATION, dtype: object"
      ]
     },
     "execution_count": 52,
     "metadata": {},
     "output_type": "execute_result"
    }
   ],
   "source": [
    "bajaj['OCCUPATION'].head()"
   ]
  },
  {
   "cell_type": "code",
   "execution_count": 53,
   "metadata": {},
   "outputs": [
    {
     "data": {
      "text/plain": [
       "trad    29565\n",
       "ulip     9707\n",
       "term     3413\n",
       "Name: PROD_CATEGORY, dtype: int64"
      ]
     },
     "execution_count": 53,
     "metadata": {},
     "output_type": "execute_result"
    }
   ],
   "source": [
    "bajaj['PROD_CATEGORY'].value_counts()"
   ]
  },
  {
   "cell_type": "code",
   "execution_count": 54,
   "metadata": {},
   "outputs": [
    {
     "data": {
      "text/plain": [
       " 3     12256\n",
       " 2      8605\n",
       " 4      8381\n",
       " 5      5426\n",
       " 1      2889\n",
       " 6      2606\n",
       " 7      1572\n",
       " 8       490\n",
       " 9       349\n",
       "-99       61\n",
       " 10       50\n",
       "Name: INCOME_SEGMENT, dtype: int64"
      ]
     },
     "execution_count": 54,
     "metadata": {},
     "output_type": "execute_result"
    }
   ],
   "source": [
    "bajaj['INCOME_SEGMENT'].value_counts()"
   ]
  },
  {
   "cell_type": "code",
   "execution_count": 55,
   "metadata": {},
   "outputs": [],
   "source": [
    "bajaj.drop(bajaj[bajaj['INCOME_SEGMENT'] ==-99].index, inplace = True)"
   ]
  },
  {
   "cell_type": "code",
   "execution_count": 56,
   "metadata": {},
   "outputs": [
    {
     "data": {
      "text/plain": [
       "0    5\n",
       "1    5\n",
       "2    5\n",
       "3    5\n",
       "4    5\n",
       "Name: INCOME_SEGMENT, dtype: int64"
      ]
     },
     "execution_count": 56,
     "metadata": {},
     "output_type": "execute_result"
    }
   ],
   "source": [
    "bajaj['INCOME_SEGMENT'].head()"
   ]
  },
  {
   "cell_type": "code",
   "execution_count": 57,
   "metadata": {},
   "outputs": [
    {
     "data": {
      "text/plain": [
       "Medium       19937\n",
       "High         12886\n",
       "Very_high     3825\n",
       "Very_low      2716\n",
       "Low           2533\n",
       "Missing        727\n",
       "Name: PROSPERITY_INDEX_BAND, dtype: int64"
      ]
     },
     "execution_count": 57,
     "metadata": {},
     "output_type": "execute_result"
    }
   ],
   "source": [
    "bajaj['PROSPERITY_INDEX_BAND'].value_counts()"
   ]
  },
  {
   "cell_type": "code",
   "execution_count": 58,
   "metadata": {},
   "outputs": [
    {
     "data": {
      "text/plain": [
       "1.705611861861862"
      ]
     },
     "execution_count": 58,
     "metadata": {},
     "output_type": "execute_result"
    }
   ],
   "source": [
    "(((bajaj['PROSPERITY_INDEX_BAND']=='Missing').sum())/len(bajaj))*100"
   ]
  },
  {
   "cell_type": "code",
   "execution_count": 59,
   "metadata": {},
   "outputs": [],
   "source": [
    "bajaj.drop(bajaj[bajaj['PROSPERITY_INDEX_BAND'] =='Missing'].index, inplace = True)"
   ]
  },
  {
   "cell_type": "code",
   "execution_count": 60,
   "metadata": {},
   "outputs": [],
   "source": [
    "bajaj['PROSPERITY_INDEX_BAND']=bajaj['PROSPERITY_INDEX_BAND'].astype(str)"
   ]
  },
  {
   "cell_type": "code",
   "execution_count": 61,
   "metadata": {},
   "outputs": [
    {
     "data": {
      "text/plain": [
       "0    High\n",
       "1    High\n",
       "2    High\n",
       "3    High\n",
       "4    High\n",
       "Name: PROSPERITY_INDEX_BAND, dtype: object"
      ]
     },
     "execution_count": 61,
     "metadata": {},
     "output_type": "execute_result"
    }
   ],
   "source": [
    "bajaj['PROSPERITY_INDEX_BAND'].head()"
   ]
  },
  {
   "cell_type": "code",
   "execution_count": 62,
   "metadata": {},
   "outputs": [
    {
     "data": {
      "text/plain": [
       "4    14945\n",
       "5    10899\n",
       "3     7847\n",
       "2     6360\n",
       "6     1703\n",
       "1      143\n",
       "Name: QUALITY_SCORE_BAND, dtype: int64"
      ]
     },
     "execution_count": 62,
     "metadata": {},
     "output_type": "execute_result"
    }
   ],
   "source": [
    "bajaj['QUALITY_SCORE_BAND'].value_counts()"
   ]
  },
  {
   "cell_type": "code",
   "execution_count": 63,
   "metadata": {},
   "outputs": [
    {
     "data": {
      "text/plain": [
       "0    6\n",
       "1    6\n",
       "2    6\n",
       "3    6\n",
       "4    6\n",
       "Name: QUALITY_SCORE_BAND, dtype: int64"
      ]
     },
     "execution_count": 63,
     "metadata": {},
     "output_type": "execute_result"
    }
   ],
   "source": [
    "bajaj['QUALITY_SCORE_BAND'].head()"
   ]
  },
  {
   "cell_type": "code",
   "execution_count": 64,
   "metadata": {},
   "outputs": [],
   "source": [
    "bajaj['QTR']=bajaj['QTR'].astype(str)"
   ]
  },
  {
   "cell_type": "code",
   "execution_count": 65,
   "metadata": {},
   "outputs": [],
   "source": [
    "bajaj['QTR']=bajaj['QTR'].map({'1':'Q1','2':'Q2','3':'Q3','4':'Q4'})"
   ]
  },
  {
   "cell_type": "code",
   "execution_count": 66,
   "metadata": {},
   "outputs": [
    {
     "data": {
      "text/plain": [
       "AGE                       int32\n",
       "EDUCATION                object\n",
       "OCCUPATION               object\n",
       "PROD_CATEGORY            object\n",
       "INCOME_SEGMENT            int64\n",
       "PROSPERITY_INDEX_BAND    object\n",
       "QUALITY_SCORE_BAND        int64\n",
       "INDIAN_REGION            object\n",
       "ISSUANCE_YEAR            object\n",
       "QTR                      object\n",
       "dtype: object"
      ]
     },
     "execution_count": 66,
     "metadata": {},
     "output_type": "execute_result"
    }
   ],
   "source": [
    "bajaj.dtypes"
   ]
  },
  {
   "cell_type": "code",
   "execution_count": 67,
   "metadata": {},
   "outputs": [
    {
     "data": {
      "text/plain": [
       "1"
      ]
     },
     "execution_count": 67,
     "metadata": {},
     "output_type": "execute_result"
    }
   ],
   "source": [
    "bajaj.isna().any().sum()"
   ]
  },
  {
   "cell_type": "code",
   "execution_count": 68,
   "metadata": {},
   "outputs": [
    {
     "data": {
      "text/plain": [
       "True"
      ]
     },
     "execution_count": 68,
     "metadata": {},
     "output_type": "execute_result"
    }
   ],
   "source": [
    "bajaj.isnull().values.any()"
   ]
  },
  {
   "cell_type": "code",
   "execution_count": 69,
   "metadata": {},
   "outputs": [
    {
     "data": {
      "text/html": [
       "<div>\n",
       "<style scoped>\n",
       "    .dataframe tbody tr th:only-of-type {\n",
       "        vertical-align: middle;\n",
       "    }\n",
       "\n",
       "    .dataframe tbody tr th {\n",
       "        vertical-align: top;\n",
       "    }\n",
       "\n",
       "    .dataframe thead th {\n",
       "        text-align: right;\n",
       "    }\n",
       "</style>\n",
       "<table border=\"1\" class=\"dataframe\">\n",
       "  <thead>\n",
       "    <tr style=\"text-align: right;\">\n",
       "      <th></th>\n",
       "      <th>AGE</th>\n",
       "      <th>EDUCATION</th>\n",
       "      <th>OCCUPATION</th>\n",
       "      <th>PROD_CATEGORY</th>\n",
       "      <th>INCOME_SEGMENT</th>\n",
       "      <th>PROSPERITY_INDEX_BAND</th>\n",
       "      <th>QUALITY_SCORE_BAND</th>\n",
       "      <th>INDIAN_REGION</th>\n",
       "      <th>ISSUANCE_YEAR</th>\n",
       "      <th>QTR</th>\n",
       "    </tr>\n",
       "  </thead>\n",
       "  <tbody>\n",
       "    <tr>\n",
       "      <th>0</th>\n",
       "      <td>27</td>\n",
       "      <td>masters_plus</td>\n",
       "      <td>salaried_pvt</td>\n",
       "      <td>trad</td>\n",
       "      <td>5</td>\n",
       "      <td>High</td>\n",
       "      <td>6</td>\n",
       "      <td>Central</td>\n",
       "      <td>2022</td>\n",
       "      <td>Q1</td>\n",
       "    </tr>\n",
       "    <tr>\n",
       "      <th>1</th>\n",
       "      <td>27</td>\n",
       "      <td>masters_plus</td>\n",
       "      <td>salaried_pvt</td>\n",
       "      <td>trad</td>\n",
       "      <td>5</td>\n",
       "      <td>High</td>\n",
       "      <td>6</td>\n",
       "      <td>Central</td>\n",
       "      <td>2022</td>\n",
       "      <td>Q1</td>\n",
       "    </tr>\n",
       "    <tr>\n",
       "      <th>2</th>\n",
       "      <td>27</td>\n",
       "      <td>masters_plus</td>\n",
       "      <td>salaried_pvt</td>\n",
       "      <td>trad</td>\n",
       "      <td>5</td>\n",
       "      <td>High</td>\n",
       "      <td>6</td>\n",
       "      <td>Central</td>\n",
       "      <td>2022</td>\n",
       "      <td>Q1</td>\n",
       "    </tr>\n",
       "    <tr>\n",
       "      <th>3</th>\n",
       "      <td>27</td>\n",
       "      <td>masters_plus</td>\n",
       "      <td>salaried_pvt</td>\n",
       "      <td>trad</td>\n",
       "      <td>5</td>\n",
       "      <td>High</td>\n",
       "      <td>6</td>\n",
       "      <td>Central</td>\n",
       "      <td>2022</td>\n",
       "      <td>Q1</td>\n",
       "    </tr>\n",
       "    <tr>\n",
       "      <th>4</th>\n",
       "      <td>27</td>\n",
       "      <td>masters_plus</td>\n",
       "      <td>salaried_pvt</td>\n",
       "      <td>trad</td>\n",
       "      <td>5</td>\n",
       "      <td>High</td>\n",
       "      <td>6</td>\n",
       "      <td>Central</td>\n",
       "      <td>2022</td>\n",
       "      <td>Q1</td>\n",
       "    </tr>\n",
       "  </tbody>\n",
       "</table>\n",
       "</div>"
      ],
      "text/plain": [
       "   AGE     EDUCATION    OCCUPATION PROD_CATEGORY  INCOME_SEGMENT  \\\n",
       "0   27  masters_plus  salaried_pvt          trad               5   \n",
       "1   27  masters_plus  salaried_pvt          trad               5   \n",
       "2   27  masters_plus  salaried_pvt          trad               5   \n",
       "3   27  masters_plus  salaried_pvt          trad               5   \n",
       "4   27  masters_plus  salaried_pvt          trad               5   \n",
       "\n",
       "  PROSPERITY_INDEX_BAND  QUALITY_SCORE_BAND INDIAN_REGION ISSUANCE_YEAR QTR  \n",
       "0                  High                   6       Central          2022  Q1  \n",
       "1                  High                   6       Central          2022  Q1  \n",
       "2                  High                   6       Central          2022  Q1  \n",
       "3                  High                   6       Central          2022  Q1  \n",
       "4                  High                   6       Central          2022  Q1  "
      ]
     },
     "execution_count": 69,
     "metadata": {},
     "output_type": "execute_result"
    }
   ],
   "source": [
    "bajaj.head()"
   ]
  },
  {
   "cell_type": "markdown",
   "metadata": {},
   "source": [
    "### Feature Extraction"
   ]
  },
  {
   "cell_type": "markdown",
   "metadata": {},
   "source": [
    "#### Dummy Variables"
   ]
  },
  {
   "cell_type": "code",
   "execution_count": 70,
   "metadata": {},
   "outputs": [],
   "source": [
    "cols=['EDUCATION','OCCUPATION','QUALITY_SCORE_BAND','INCOME_SEGMENT','INDIAN_REGION','PROSPERITY_INDEX_BAND','ISSUANCE_YEAR','QTR']\n",
    "baj_dum=bajaj[cols]"
   ]
  },
  {
   "cell_type": "code",
   "execution_count": 71,
   "metadata": {},
   "outputs": [
    {
     "data": {
      "text/plain": [
       "Index(['EDUCATION', 'OCCUPATION', 'QUALITY_SCORE_BAND', 'INCOME_SEGMENT',\n",
       "       'INDIAN_REGION', 'PROSPERITY_INDEX_BAND', 'ISSUANCE_YEAR', 'QTR'],\n",
       "      dtype='object')"
      ]
     },
     "execution_count": 71,
     "metadata": {},
     "output_type": "execute_result"
    }
   ],
   "source": [
    "baj_dum.columns"
   ]
  },
  {
   "cell_type": "code",
   "execution_count": 72,
   "metadata": {},
   "outputs": [],
   "source": [
    "baj_dum=pd.get_dummies(data=baj_dum,columns=baj_dum.columns,\n",
    "                       prefix=['EDUCATION', 'OCCUPATION', 'QUALITY_SCORE_BAND','INCOME_SEGMENT','INDIAN_REGION',\n",
    "                               'PROSPERITY_INDEX_BAND', 'ISSUANCE_YEAR', 'QTR'],\n",
    "                       dummy_na=False,drop_first=True)"
   ]
  },
  {
   "cell_type": "code",
   "execution_count": 73,
   "metadata": {},
   "outputs": [
    {
     "data": {
      "text/plain": [
       "(41897, 38)"
      ]
     },
     "execution_count": 73,
     "metadata": {},
     "output_type": "execute_result"
    }
   ],
   "source": [
    "baj_dum.shape"
   ]
  },
  {
   "cell_type": "code",
   "execution_count": 74,
   "metadata": {},
   "outputs": [],
   "source": [
    "cols=['EDUCATION','OCCUPATION','QUALITY_SCORE_BAND','INCOME_SEGMENT','INDIAN_REGION',\n",
    "      'PROSPERITY_INDEX_BAND','ISSUANCE_YEAR','QTR']\n",
    "bajaj=bajaj.drop(cols,axis=1)"
   ]
  },
  {
   "cell_type": "code",
   "execution_count": 75,
   "metadata": {},
   "outputs": [],
   "source": [
    "bajaj_fin=pd.concat([bajaj,baj_dum],axis=1)"
   ]
  },
  {
   "cell_type": "code",
   "execution_count": 76,
   "metadata": {},
   "outputs": [
    {
     "data": {
      "text/plain": [
       "Index(['AGE', 'PROD_CATEGORY', 'EDUCATION_higher_secondary',\n",
       "       'EDUCATION_masters_plus', 'EDUCATION_matriculation',\n",
       "       'EDUCATION_non_matriculation', 'OCCUPATION_business',\n",
       "       'OCCUPATION_housewife', 'OCCUPATION_professional', 'OCCUPATION_retired',\n",
       "       'OCCUPATION_salaried', 'OCCUPATION_salaried_govt',\n",
       "       'OCCUPATION_salaried_pvt', 'OCCUPATION_student', 'QUALITY_SCORE_BAND_2',\n",
       "       'QUALITY_SCORE_BAND_3', 'QUALITY_SCORE_BAND_4', 'QUALITY_SCORE_BAND_5',\n",
       "       'QUALITY_SCORE_BAND_6', 'INCOME_SEGMENT_2', 'INCOME_SEGMENT_3',\n",
       "       'INCOME_SEGMENT_4', 'INCOME_SEGMENT_5', 'INCOME_SEGMENT_6',\n",
       "       'INCOME_SEGMENT_7', 'INCOME_SEGMENT_8', 'INCOME_SEGMENT_9',\n",
       "       'INCOME_SEGMENT_10', 'INDIAN_REGION_East', 'INDIAN_REGION_North',\n",
       "       'INDIAN_REGION_South', 'INDIAN_REGION_West',\n",
       "       'PROSPERITY_INDEX_BAND_Low', 'PROSPERITY_INDEX_BAND_Medium',\n",
       "       'PROSPERITY_INDEX_BAND_Very_high', 'PROSPERITY_INDEX_BAND_Very_low',\n",
       "       'ISSUANCE_YEAR_2022', 'QTR_Q2', 'QTR_Q3', 'QTR_Q4'],\n",
       "      dtype='object')"
      ]
     },
     "execution_count": 76,
     "metadata": {},
     "output_type": "execute_result"
    }
   ],
   "source": [
    "bajaj_fin.columns"
   ]
  },
  {
   "cell_type": "code",
   "execution_count": 77,
   "metadata": {},
   "outputs": [
    {
     "data": {
      "text/plain": [
       "(41897, 40)"
      ]
     },
     "execution_count": 77,
     "metadata": {},
     "output_type": "execute_result"
    }
   ],
   "source": [
    "bajaj_fin.shape"
   ]
  },
  {
   "cell_type": "code",
   "execution_count": null,
   "metadata": {},
   "outputs": [],
   "source": []
  },
  {
   "cell_type": "markdown",
   "metadata": {},
   "source": [
    "### Feature Selection"
   ]
  },
  {
   "cell_type": "code",
   "execution_count": 78,
   "metadata": {},
   "outputs": [
    {
     "name": "stdout",
     "output_type": "stream",
     "text": [
      "0    0\n",
      "1    0\n",
      "2    0\n",
      "3    0\n",
      "4    0\n",
      "Name: PROD_CATEGORY, dtype: int64\n",
      "Index(['trad', 'ulip', 'term'], dtype='object')\n"
     ]
    }
   ],
   "source": [
    "#Creating the dependent variable class\n",
    "factor = pd.factorize(bajaj_fin['PROD_CATEGORY'])\n",
    "bajaj_fin.PROD_CATEGORY = factor[0]\n",
    "definitions = factor[1]\n",
    "print(bajaj_fin.PROD_CATEGORY.head())\n",
    "print(definitions)"
   ]
  },
  {
   "cell_type": "code",
   "execution_count": 79,
   "metadata": {},
   "outputs": [],
   "source": [
    "y=bajaj_fin['PROD_CATEGORY']\n",
    "X=bajaj_fin.drop(['PROD_CATEGORY'],axis=1)"
   ]
  },
  {
   "cell_type": "code",
   "execution_count": null,
   "metadata": {},
   "outputs": [],
   "source": []
  },
  {
   "cell_type": "markdown",
   "metadata": {},
   "source": [
    "### Train-Test-Split"
   ]
  },
  {
   "cell_type": "code",
   "execution_count": 80,
   "metadata": {},
   "outputs": [],
   "source": [
    "from sklearn.model_selection import train_test_split"
   ]
  },
  {
   "cell_type": "code",
   "execution_count": 81,
   "metadata": {},
   "outputs": [],
   "source": [
    "X_train,X_test,y_train,y_test=train_test_split(X,y,test_size=0.3)"
   ]
  },
  {
   "cell_type": "code",
   "execution_count": 82,
   "metadata": {},
   "outputs": [
    {
     "data": {
      "text/html": [
       "<div>\n",
       "<style scoped>\n",
       "    .dataframe tbody tr th:only-of-type {\n",
       "        vertical-align: middle;\n",
       "    }\n",
       "\n",
       "    .dataframe tbody tr th {\n",
       "        vertical-align: top;\n",
       "    }\n",
       "\n",
       "    .dataframe thead th {\n",
       "        text-align: right;\n",
       "    }\n",
       "</style>\n",
       "<table border=\"1\" class=\"dataframe\">\n",
       "  <thead>\n",
       "    <tr style=\"text-align: right;\">\n",
       "      <th></th>\n",
       "      <th>AGE</th>\n",
       "      <th>EDUCATION_higher_secondary</th>\n",
       "      <th>EDUCATION_masters_plus</th>\n",
       "      <th>EDUCATION_matriculation</th>\n",
       "      <th>EDUCATION_non_matriculation</th>\n",
       "      <th>OCCUPATION_business</th>\n",
       "      <th>OCCUPATION_housewife</th>\n",
       "      <th>OCCUPATION_professional</th>\n",
       "      <th>OCCUPATION_retired</th>\n",
       "      <th>OCCUPATION_salaried</th>\n",
       "      <th>...</th>\n",
       "      <th>INDIAN_REGION_South</th>\n",
       "      <th>INDIAN_REGION_West</th>\n",
       "      <th>PROSPERITY_INDEX_BAND_Low</th>\n",
       "      <th>PROSPERITY_INDEX_BAND_Medium</th>\n",
       "      <th>PROSPERITY_INDEX_BAND_Very_high</th>\n",
       "      <th>PROSPERITY_INDEX_BAND_Very_low</th>\n",
       "      <th>ISSUANCE_YEAR_2022</th>\n",
       "      <th>QTR_Q2</th>\n",
       "      <th>QTR_Q3</th>\n",
       "      <th>QTR_Q4</th>\n",
       "    </tr>\n",
       "  </thead>\n",
       "  <tbody>\n",
       "    <tr>\n",
       "      <th>28385</th>\n",
       "      <td>49</td>\n",
       "      <td>0</td>\n",
       "      <td>0</td>\n",
       "      <td>0</td>\n",
       "      <td>0</td>\n",
       "      <td>0</td>\n",
       "      <td>0</td>\n",
       "      <td>0</td>\n",
       "      <td>0</td>\n",
       "      <td>0</td>\n",
       "      <td>...</td>\n",
       "      <td>0</td>\n",
       "      <td>1</td>\n",
       "      <td>0</td>\n",
       "      <td>1</td>\n",
       "      <td>0</td>\n",
       "      <td>0</td>\n",
       "      <td>0</td>\n",
       "      <td>0</td>\n",
       "      <td>0</td>\n",
       "      <td>1</td>\n",
       "    </tr>\n",
       "    <tr>\n",
       "      <th>712</th>\n",
       "      <td>34</td>\n",
       "      <td>0</td>\n",
       "      <td>0</td>\n",
       "      <td>0</td>\n",
       "      <td>0</td>\n",
       "      <td>1</td>\n",
       "      <td>0</td>\n",
       "      <td>0</td>\n",
       "      <td>0</td>\n",
       "      <td>0</td>\n",
       "      <td>...</td>\n",
       "      <td>0</td>\n",
       "      <td>0</td>\n",
       "      <td>0</td>\n",
       "      <td>1</td>\n",
       "      <td>0</td>\n",
       "      <td>0</td>\n",
       "      <td>0</td>\n",
       "      <td>0</td>\n",
       "      <td>1</td>\n",
       "      <td>0</td>\n",
       "    </tr>\n",
       "    <tr>\n",
       "      <th>34766</th>\n",
       "      <td>41</td>\n",
       "      <td>0</td>\n",
       "      <td>0</td>\n",
       "      <td>0</td>\n",
       "      <td>0</td>\n",
       "      <td>0</td>\n",
       "      <td>1</td>\n",
       "      <td>0</td>\n",
       "      <td>0</td>\n",
       "      <td>0</td>\n",
       "      <td>...</td>\n",
       "      <td>0</td>\n",
       "      <td>0</td>\n",
       "      <td>0</td>\n",
       "      <td>1</td>\n",
       "      <td>0</td>\n",
       "      <td>0</td>\n",
       "      <td>0</td>\n",
       "      <td>1</td>\n",
       "      <td>0</td>\n",
       "      <td>0</td>\n",
       "    </tr>\n",
       "    <tr>\n",
       "      <th>33272</th>\n",
       "      <td>24</td>\n",
       "      <td>0</td>\n",
       "      <td>0</td>\n",
       "      <td>0</td>\n",
       "      <td>0</td>\n",
       "      <td>1</td>\n",
       "      <td>0</td>\n",
       "      <td>0</td>\n",
       "      <td>0</td>\n",
       "      <td>0</td>\n",
       "      <td>...</td>\n",
       "      <td>1</td>\n",
       "      <td>0</td>\n",
       "      <td>0</td>\n",
       "      <td>0</td>\n",
       "      <td>0</td>\n",
       "      <td>0</td>\n",
       "      <td>1</td>\n",
       "      <td>0</td>\n",
       "      <td>0</td>\n",
       "      <td>0</td>\n",
       "    </tr>\n",
       "    <tr>\n",
       "      <th>35756</th>\n",
       "      <td>45</td>\n",
       "      <td>0</td>\n",
       "      <td>0</td>\n",
       "      <td>0</td>\n",
       "      <td>0</td>\n",
       "      <td>0</td>\n",
       "      <td>0</td>\n",
       "      <td>0</td>\n",
       "      <td>0</td>\n",
       "      <td>0</td>\n",
       "      <td>...</td>\n",
       "      <td>0</td>\n",
       "      <td>0</td>\n",
       "      <td>0</td>\n",
       "      <td>0</td>\n",
       "      <td>1</td>\n",
       "      <td>0</td>\n",
       "      <td>0</td>\n",
       "      <td>0</td>\n",
       "      <td>1</td>\n",
       "      <td>0</td>\n",
       "    </tr>\n",
       "  </tbody>\n",
       "</table>\n",
       "<p>5 rows × 39 columns</p>\n",
       "</div>"
      ],
      "text/plain": [
       "       AGE  EDUCATION_higher_secondary  EDUCATION_masters_plus  \\\n",
       "28385   49                           0                       0   \n",
       "712     34                           0                       0   \n",
       "34766   41                           0                       0   \n",
       "33272   24                           0                       0   \n",
       "35756   45                           0                       0   \n",
       "\n",
       "       EDUCATION_matriculation  EDUCATION_non_matriculation  \\\n",
       "28385                        0                            0   \n",
       "712                          0                            0   \n",
       "34766                        0                            0   \n",
       "33272                        0                            0   \n",
       "35756                        0                            0   \n",
       "\n",
       "       OCCUPATION_business  OCCUPATION_housewife  OCCUPATION_professional  \\\n",
       "28385                    0                     0                        0   \n",
       "712                      1                     0                        0   \n",
       "34766                    0                     1                        0   \n",
       "33272                    1                     0                        0   \n",
       "35756                    0                     0                        0   \n",
       "\n",
       "       OCCUPATION_retired  OCCUPATION_salaried  ...  INDIAN_REGION_South  \\\n",
       "28385                   0                    0  ...                    0   \n",
       "712                     0                    0  ...                    0   \n",
       "34766                   0                    0  ...                    0   \n",
       "33272                   0                    0  ...                    1   \n",
       "35756                   0                    0  ...                    0   \n",
       "\n",
       "       INDIAN_REGION_West  PROSPERITY_INDEX_BAND_Low  \\\n",
       "28385                   1                          0   \n",
       "712                     0                          0   \n",
       "34766                   0                          0   \n",
       "33272                   0                          0   \n",
       "35756                   0                          0   \n",
       "\n",
       "       PROSPERITY_INDEX_BAND_Medium  PROSPERITY_INDEX_BAND_Very_high  \\\n",
       "28385                             1                                0   \n",
       "712                               1                                0   \n",
       "34766                             1                                0   \n",
       "33272                             0                                0   \n",
       "35756                             0                                1   \n",
       "\n",
       "       PROSPERITY_INDEX_BAND_Very_low  ISSUANCE_YEAR_2022  QTR_Q2  QTR_Q3  \\\n",
       "28385                               0                   0       0       0   \n",
       "712                                 0                   0       0       1   \n",
       "34766                               0                   0       1       0   \n",
       "33272                               0                   1       0       0   \n",
       "35756                               0                   0       0       1   \n",
       "\n",
       "       QTR_Q4  \n",
       "28385       1  \n",
       "712         0  \n",
       "34766       0  \n",
       "33272       0  \n",
       "35756       0  \n",
       "\n",
       "[5 rows x 39 columns]"
      ]
     },
     "execution_count": 82,
     "metadata": {},
     "output_type": "execute_result"
    }
   ],
   "source": [
    "X_train.head()"
   ]
  },
  {
   "cell_type": "code",
   "execution_count": 83,
   "metadata": {},
   "outputs": [
    {
     "data": {
      "text/plain": [
       "28385    1\n",
       "712      0\n",
       "34766    0\n",
       "33272    0\n",
       "35756    2\n",
       "Name: PROD_CATEGORY, dtype: int64"
      ]
     },
     "execution_count": 83,
     "metadata": {},
     "output_type": "execute_result"
    }
   ],
   "source": [
    "y_train.head()"
   ]
  },
  {
   "cell_type": "code",
   "execution_count": 84,
   "metadata": {},
   "outputs": [],
   "source": [
    "from sklearn.ensemble import RandomForestClassifier"
   ]
  },
  {
   "cell_type": "code",
   "execution_count": 85,
   "metadata": {},
   "outputs": [],
   "source": [
    "from sklearn.linear_model import LogisticRegression"
   ]
  },
  {
   "cell_type": "code",
   "execution_count": 86,
   "metadata": {},
   "outputs": [],
   "source": [
    "#importing the necessary libraries \n",
    "from sklearn.feature_selection import RFE  \n",
    "rfe = RFE(RandomForestClassifier(),n_features_to_select=10)"
   ]
  },
  {
   "cell_type": "code",
   "execution_count": 87,
   "metadata": {},
   "outputs": [],
   "source": [
    "_=rfe.fit(X_train,y_train)"
   ]
  },
  {
   "cell_type": "code",
   "execution_count": 88,
   "metadata": {},
   "outputs": [],
   "source": [
    "X_train=X_train.loc[:,rfe.support_]\n",
    "X_test=X_test.loc[:,rfe.support_]"
   ]
  },
  {
   "cell_type": "code",
   "execution_count": 89,
   "metadata": {},
   "outputs": [
    {
     "data": {
      "text/html": [
       "<div>\n",
       "<style scoped>\n",
       "    .dataframe tbody tr th:only-of-type {\n",
       "        vertical-align: middle;\n",
       "    }\n",
       "\n",
       "    .dataframe tbody tr th {\n",
       "        vertical-align: top;\n",
       "    }\n",
       "\n",
       "    .dataframe thead th {\n",
       "        text-align: right;\n",
       "    }\n",
       "</style>\n",
       "<table border=\"1\" class=\"dataframe\">\n",
       "  <thead>\n",
       "    <tr style=\"text-align: right;\">\n",
       "      <th></th>\n",
       "      <th>AGE</th>\n",
       "      <th>OCCUPATION_business</th>\n",
       "      <th>QUALITY_SCORE_BAND_5</th>\n",
       "      <th>INCOME_SEGMENT_3</th>\n",
       "      <th>INCOME_SEGMENT_5</th>\n",
       "      <th>INDIAN_REGION_East</th>\n",
       "      <th>INDIAN_REGION_North</th>\n",
       "      <th>PROSPERITY_INDEX_BAND_Medium</th>\n",
       "      <th>ISSUANCE_YEAR_2022</th>\n",
       "      <th>QTR_Q4</th>\n",
       "    </tr>\n",
       "  </thead>\n",
       "  <tbody>\n",
       "    <tr>\n",
       "      <th>28385</th>\n",
       "      <td>49</td>\n",
       "      <td>0</td>\n",
       "      <td>0</td>\n",
       "      <td>0</td>\n",
       "      <td>0</td>\n",
       "      <td>0</td>\n",
       "      <td>0</td>\n",
       "      <td>1</td>\n",
       "      <td>0</td>\n",
       "      <td>1</td>\n",
       "    </tr>\n",
       "    <tr>\n",
       "      <th>712</th>\n",
       "      <td>34</td>\n",
       "      <td>1</td>\n",
       "      <td>0</td>\n",
       "      <td>1</td>\n",
       "      <td>0</td>\n",
       "      <td>0</td>\n",
       "      <td>1</td>\n",
       "      <td>1</td>\n",
       "      <td>0</td>\n",
       "      <td>0</td>\n",
       "    </tr>\n",
       "    <tr>\n",
       "      <th>34766</th>\n",
       "      <td>41</td>\n",
       "      <td>0</td>\n",
       "      <td>0</td>\n",
       "      <td>0</td>\n",
       "      <td>0</td>\n",
       "      <td>0</td>\n",
       "      <td>1</td>\n",
       "      <td>1</td>\n",
       "      <td>0</td>\n",
       "      <td>0</td>\n",
       "    </tr>\n",
       "    <tr>\n",
       "      <th>33272</th>\n",
       "      <td>24</td>\n",
       "      <td>1</td>\n",
       "      <td>0</td>\n",
       "      <td>0</td>\n",
       "      <td>0</td>\n",
       "      <td>0</td>\n",
       "      <td>0</td>\n",
       "      <td>0</td>\n",
       "      <td>1</td>\n",
       "      <td>0</td>\n",
       "    </tr>\n",
       "    <tr>\n",
       "      <th>35756</th>\n",
       "      <td>45</td>\n",
       "      <td>0</td>\n",
       "      <td>0</td>\n",
       "      <td>0</td>\n",
       "      <td>1</td>\n",
       "      <td>0</td>\n",
       "      <td>1</td>\n",
       "      <td>0</td>\n",
       "      <td>0</td>\n",
       "      <td>0</td>\n",
       "    </tr>\n",
       "  </tbody>\n",
       "</table>\n",
       "</div>"
      ],
      "text/plain": [
       "       AGE  OCCUPATION_business  QUALITY_SCORE_BAND_5  INCOME_SEGMENT_3  \\\n",
       "28385   49                    0                     0                 0   \n",
       "712     34                    1                     0                 1   \n",
       "34766   41                    0                     0                 0   \n",
       "33272   24                    1                     0                 0   \n",
       "35756   45                    0                     0                 0   \n",
       "\n",
       "       INCOME_SEGMENT_5  INDIAN_REGION_East  INDIAN_REGION_North  \\\n",
       "28385                 0                   0                    0   \n",
       "712                   0                   0                    1   \n",
       "34766                 0                   0                    1   \n",
       "33272                 0                   0                    0   \n",
       "35756                 1                   0                    1   \n",
       "\n",
       "       PROSPERITY_INDEX_BAND_Medium  ISSUANCE_YEAR_2022  QTR_Q4  \n",
       "28385                             1                   0       1  \n",
       "712                               1                   0       0  \n",
       "34766                             1                   0       0  \n",
       "33272                             0                   1       0  \n",
       "35756                             0                   0       0  "
      ]
     },
     "execution_count": 89,
     "metadata": {},
     "output_type": "execute_result"
    }
   ],
   "source": [
    "X_train.head()"
   ]
  },
  {
   "cell_type": "code",
   "execution_count": 90,
   "metadata": {},
   "outputs": [
    {
     "name": "stdout",
     "output_type": "stream",
     "text": [
      "[ 1 16  7 12 24  1 26 19 22 30 13  4 29 21 15  5  1 23  8  1  2  1 11 17\n",
      " 27 25 28  1  1 14  6 18  1 10 20  1  9  3  1]\n"
     ]
    }
   ],
   "source": [
    "print(rfe.ranking_)"
   ]
  },
  {
   "cell_type": "code",
   "execution_count": 91,
   "metadata": {},
   "outputs": [
    {
     "name": "stdout",
     "output_type": "stream",
     "text": [
      "[100, 200, 300, 400, 500, 600, 700, 800, 900, 1000, 1100, 1200]\n"
     ]
    }
   ],
   "source": [
    "n_estimators = [int(x) for x in np.linspace(start = 100, stop = 1200, num = 12)]\n",
    "print(n_estimators)"
   ]
  },
  {
   "cell_type": "code",
   "execution_count": 92,
   "metadata": {},
   "outputs": [],
   "source": [
    "from sklearn.model_selection import RandomizedSearchCV"
   ]
  },
  {
   "cell_type": "code",
   "execution_count": 93,
   "metadata": {},
   "outputs": [],
   "source": [
    "# #Randomized Search CV\n",
    "\n",
    "# Number of trees in random forest\n",
    "n_estimators = [int(x) for x in np.linspace(start = 100, stop = 1200, num = 12)]\n",
    "# Number of features to consider at every split\n",
    "max_features = ['auto', 'sqrt']\n",
    "# Maximum number of levels in tree\n",
    "max_depth = [int(x) for x in np.linspace(5, 30, num = 6)]\n",
    "\n",
    "# Minimum number of samples required to split a node\n",
    "min_samples_split = [2, 5, 10, 15, 100]\n",
    "# Minimum number of samples required at each leaf node\n",
    "min_samples_leaf = [1, 2, 5, 10]"
   ]
  },
  {
   "cell_type": "code",
   "execution_count": 94,
   "metadata": {},
   "outputs": [
    {
     "name": "stdout",
     "output_type": "stream",
     "text": [
      "{'n_estimators': [100, 200, 300, 400, 500, 600, 700, 800, 900, 1000, 1100, 1200], 'max_features': ['auto', 'sqrt'], 'max_depth': [5, 10, 15, 20, 25, 30], 'min_samples_split': [2, 5, 10, 15, 100], 'min_samples_leaf': [1, 2, 5, 10]}\n"
     ]
    }
   ],
   "source": [
    "# # Create the random grid\n",
    "\n",
    "random_grid = {'n_estimators': n_estimators,\n",
    "               'max_features': max_features,\n",
    "               'max_depth': max_depth,\n",
    "               'min_samples_split': min_samples_split,\n",
    "               'min_samples_leaf': min_samples_leaf}\n",
    "\n",
    "print(random_grid)"
   ]
  },
  {
   "cell_type": "code",
   "execution_count": 95,
   "metadata": {},
   "outputs": [],
   "source": [
    "rfc_classifier=RandomForestClassifier(criterion = 'entropy', random_state = 42)"
   ]
  },
  {
   "cell_type": "code",
   "execution_count": 96,
   "metadata": {},
   "outputs": [],
   "source": [
    "# Random search of parameters, using 3 fold cross validation, \n",
    "# search across 100 different combinations\n",
    "\n",
    "rfc = RandomizedSearchCV(estimator = rfc_classifier, param_distributions = random_grid,\n",
    "                                scoring='neg_mean_squared_error', n_iter = 10, cv = 5,\n",
    "                                verbose=2, random_state=42, n_jobs = 1)"
   ]
  },
  {
   "cell_type": "code",
   "execution_count": 97,
   "metadata": {},
   "outputs": [
    {
     "name": "stdout",
     "output_type": "stream",
     "text": [
      "Fitting 5 folds for each of 10 candidates, totalling 50 fits\n",
      "[CV] END max_depth=10, max_features=sqrt, min_samples_leaf=5, min_samples_split=5, n_estimators=900; total time=   8.7s\n",
      "[CV] END max_depth=10, max_features=sqrt, min_samples_leaf=5, min_samples_split=5, n_estimators=900; total time=   8.7s\n",
      "[CV] END max_depth=10, max_features=sqrt, min_samples_leaf=5, min_samples_split=5, n_estimators=900; total time=   8.7s\n",
      "[CV] END max_depth=10, max_features=sqrt, min_samples_leaf=5, min_samples_split=5, n_estimators=900; total time=   8.6s\n",
      "[CV] END max_depth=10, max_features=sqrt, min_samples_leaf=5, min_samples_split=5, n_estimators=900; total time=   8.6s\n",
      "[CV] END max_depth=15, max_features=sqrt, min_samples_leaf=2, min_samples_split=10, n_estimators=1100; total time=  12.9s\n",
      "[CV] END max_depth=15, max_features=sqrt, min_samples_leaf=2, min_samples_split=10, n_estimators=1100; total time=  12.8s\n",
      "[CV] END max_depth=15, max_features=sqrt, min_samples_leaf=2, min_samples_split=10, n_estimators=1100; total time=  12.8s\n",
      "[CV] END max_depth=15, max_features=sqrt, min_samples_leaf=2, min_samples_split=10, n_estimators=1100; total time=  13.0s\n",
      "[CV] END max_depth=15, max_features=sqrt, min_samples_leaf=2, min_samples_split=10, n_estimators=1100; total time=  12.8s\n",
      "[CV] END max_depth=15, max_features=auto, min_samples_leaf=5, min_samples_split=100, n_estimators=300; total time=   2.8s\n",
      "[CV] END max_depth=15, max_features=auto, min_samples_leaf=5, min_samples_split=100, n_estimators=300; total time=   2.8s\n",
      "[CV] END max_depth=15, max_features=auto, min_samples_leaf=5, min_samples_split=100, n_estimators=300; total time=   2.8s\n",
      "[CV] END max_depth=15, max_features=auto, min_samples_leaf=5, min_samples_split=100, n_estimators=300; total time=   2.8s\n",
      "[CV] END max_depth=15, max_features=auto, min_samples_leaf=5, min_samples_split=100, n_estimators=300; total time=   2.8s\n",
      "[CV] END max_depth=15, max_features=auto, min_samples_leaf=5, min_samples_split=5, n_estimators=400; total time=   4.4s\n",
      "[CV] END max_depth=15, max_features=auto, min_samples_leaf=5, min_samples_split=5, n_estimators=400; total time=   4.4s\n",
      "[CV] END max_depth=15, max_features=auto, min_samples_leaf=5, min_samples_split=5, n_estimators=400; total time=   4.4s\n",
      "[CV] END max_depth=15, max_features=auto, min_samples_leaf=5, min_samples_split=5, n_estimators=400; total time=   4.4s\n",
      "[CV] END max_depth=15, max_features=auto, min_samples_leaf=5, min_samples_split=5, n_estimators=400; total time=   4.4s\n",
      "[CV] END max_depth=20, max_features=auto, min_samples_leaf=10, min_samples_split=5, n_estimators=700; total time=   7.6s\n",
      "[CV] END max_depth=20, max_features=auto, min_samples_leaf=10, min_samples_split=5, n_estimators=700; total time=   7.7s\n",
      "[CV] END max_depth=20, max_features=auto, min_samples_leaf=10, min_samples_split=5, n_estimators=700; total time=   7.6s\n",
      "[CV] END max_depth=20, max_features=auto, min_samples_leaf=10, min_samples_split=5, n_estimators=700; total time=   8.1s\n",
      "[CV] END max_depth=20, max_features=auto, min_samples_leaf=10, min_samples_split=5, n_estimators=700; total time=   7.6s\n",
      "[CV] END max_depth=25, max_features=sqrt, min_samples_leaf=1, min_samples_split=2, n_estimators=1000; total time=  12.4s\n",
      "[CV] END max_depth=25, max_features=sqrt, min_samples_leaf=1, min_samples_split=2, n_estimators=1000; total time=  12.9s\n",
      "[CV] END max_depth=25, max_features=sqrt, min_samples_leaf=1, min_samples_split=2, n_estimators=1000; total time=  12.4s\n",
      "[CV] END max_depth=25, max_features=sqrt, min_samples_leaf=1, min_samples_split=2, n_estimators=1000; total time=  12.4s\n",
      "[CV] END max_depth=25, max_features=sqrt, min_samples_leaf=1, min_samples_split=2, n_estimators=1000; total time=  12.5s\n",
      "[CV] END max_depth=5, max_features=sqrt, min_samples_leaf=10, min_samples_split=15, n_estimators=1100; total time=   7.2s\n",
      "[CV] END max_depth=5, max_features=sqrt, min_samples_leaf=10, min_samples_split=15, n_estimators=1100; total time=   7.2s\n",
      "[CV] END max_depth=5, max_features=sqrt, min_samples_leaf=10, min_samples_split=15, n_estimators=1100; total time=   7.3s\n",
      "[CV] END max_depth=5, max_features=sqrt, min_samples_leaf=10, min_samples_split=15, n_estimators=1100; total time=   7.2s\n",
      "[CV] END max_depth=5, max_features=sqrt, min_samples_leaf=10, min_samples_split=15, n_estimators=1100; total time=   7.6s\n",
      "[CV] END max_depth=15, max_features=sqrt, min_samples_leaf=1, min_samples_split=15, n_estimators=300; total time=   3.3s\n",
      "[CV] END max_depth=15, max_features=sqrt, min_samples_leaf=1, min_samples_split=15, n_estimators=300; total time=   3.3s\n",
      "[CV] END max_depth=15, max_features=sqrt, min_samples_leaf=1, min_samples_split=15, n_estimators=300; total time=   3.3s\n",
      "[CV] END max_depth=15, max_features=sqrt, min_samples_leaf=1, min_samples_split=15, n_estimators=300; total time=   3.5s\n",
      "[CV] END max_depth=15, max_features=sqrt, min_samples_leaf=1, min_samples_split=15, n_estimators=300; total time=   3.3s\n",
      "[CV] END max_depth=5, max_features=sqrt, min_samples_leaf=2, min_samples_split=10, n_estimators=700; total time=   4.7s\n",
      "[CV] END max_depth=5, max_features=sqrt, min_samples_leaf=2, min_samples_split=10, n_estimators=700; total time=   4.6s\n",
      "[CV] END max_depth=5, max_features=sqrt, min_samples_leaf=2, min_samples_split=10, n_estimators=700; total time=   4.6s\n",
      "[CV] END max_depth=5, max_features=sqrt, min_samples_leaf=2, min_samples_split=10, n_estimators=700; total time=   4.6s\n",
      "[CV] END max_depth=5, max_features=sqrt, min_samples_leaf=2, min_samples_split=10, n_estimators=700; total time=   4.6s\n",
      "[CV] END max_depth=20, max_features=auto, min_samples_leaf=1, min_samples_split=15, n_estimators=700; total time=   8.3s\n",
      "[CV] END max_depth=20, max_features=auto, min_samples_leaf=1, min_samples_split=15, n_estimators=700; total time=   8.1s\n",
      "[CV] END max_depth=20, max_features=auto, min_samples_leaf=1, min_samples_split=15, n_estimators=700; total time=   8.2s\n",
      "[CV] END max_depth=20, max_features=auto, min_samples_leaf=1, min_samples_split=15, n_estimators=700; total time=   8.2s\n",
      "[CV] END max_depth=20, max_features=auto, min_samples_leaf=1, min_samples_split=15, n_estimators=700; total time=   8.1s\n"
     ]
    },
    {
     "data": {
      "text/plain": [
       "RandomizedSearchCV(cv=5,\n",
       "                   estimator=RandomForestClassifier(criterion='entropy',\n",
       "                                                    random_state=42),\n",
       "                   n_jobs=1,\n",
       "                   param_distributions={'max_depth': [5, 10, 15, 20, 25, 30],\n",
       "                                        'max_features': ['auto', 'sqrt'],\n",
       "                                        'min_samples_leaf': [1, 2, 5, 10],\n",
       "                                        'min_samples_split': [2, 5, 10, 15,\n",
       "                                                              100],\n",
       "                                        'n_estimators': [100, 200, 300, 400,\n",
       "                                                         500, 600, 700, 800,\n",
       "                                                         900, 1000, 1100,\n",
       "                                                         1200]},\n",
       "                   random_state=42, scoring='neg_mean_squared_error',\n",
       "                   verbose=2)"
      ]
     },
     "execution_count": 97,
     "metadata": {},
     "output_type": "execute_result"
    }
   ],
   "source": [
    "rfc.fit(X_train,y_train)"
   ]
  },
  {
   "cell_type": "code",
   "execution_count": 98,
   "metadata": {},
   "outputs": [
    {
     "data": {
      "text/plain": [
       "{'n_estimators': 1000,\n",
       " 'min_samples_split': 2,\n",
       " 'min_samples_leaf': 1,\n",
       " 'max_features': 'sqrt',\n",
       " 'max_depth': 25}"
      ]
     },
     "execution_count": 98,
     "metadata": {},
     "output_type": "execute_result"
    }
   ],
   "source": [
    "rfc.best_params_"
   ]
  },
  {
   "cell_type": "code",
   "execution_count": 99,
   "metadata": {},
   "outputs": [],
   "source": [
    "rfc_best = RandomForestClassifier(n_estimators=1000,min_samples_split=2,min_samples_leaf= 1,\n",
    "                             max_features= 'sqrt',max_depth= 25)"
   ]
  },
  {
   "cell_type": "code",
   "execution_count": 100,
   "metadata": {},
   "outputs": [
    {
     "data": {
      "text/plain": [
       "-0.16592213890848442"
      ]
     },
     "execution_count": 100,
     "metadata": {},
     "output_type": "execute_result"
    }
   ],
   "source": [
    "rfc.best_score_"
   ]
  },
  {
   "cell_type": "code",
   "execution_count": 102,
   "metadata": {},
   "outputs": [
    {
     "data": {
      "text/plain": [
       "RandomForestClassifier(max_depth=25, max_features='sqrt', n_estimators=1000)"
      ]
     },
     "execution_count": 102,
     "metadata": {},
     "output_type": "execute_result"
    }
   ],
   "source": [
    "rfc_best.fit(X_train,y_train)"
   ]
  },
  {
   "cell_type": "code",
   "execution_count": 103,
   "metadata": {},
   "outputs": [],
   "source": [
    "# Predicting the Test set results\n",
    "y_pred_rfc = rfc_best.predict(X_test)"
   ]
  },
  {
   "cell_type": "code",
   "execution_count": 104,
   "metadata": {},
   "outputs": [
    {
     "name": "stdout",
     "output_type": "stream",
     "text": [
      "[[8190  344   92]\n",
      " [ 441 2414   38]\n",
      " [ 223   52  776]]\n"
     ]
    }
   ],
   "source": [
    "from sklearn.metrics import confusion_matrix\n",
    "\n",
    "print(confusion_matrix(y_test,y_pred_rfc))"
   ]
  },
  {
   "cell_type": "code",
   "execution_count": 105,
   "metadata": {},
   "outputs": [],
   "source": [
    "from sklearn.metrics import accuracy_score\n",
    "\n",
    "rfc_accuracy=accuracy_score(y_test,y_pred_rfc)"
   ]
  },
  {
   "cell_type": "code",
   "execution_count": 106,
   "metadata": {},
   "outputs": [],
   "source": [
    "rfc_accuracy=round(rfc_accuracy*100,2)"
   ]
  },
  {
   "cell_type": "code",
   "execution_count": 107,
   "metadata": {},
   "outputs": [
    {
     "name": "stdout",
     "output_type": "stream",
     "text": [
      "90.53\n"
     ]
    }
   ],
   "source": [
    "print(rfc_accuracy)"
   ]
  },
  {
   "cell_type": "markdown",
   "metadata": {},
   "source": [
    "#### Logistic Regression"
   ]
  },
  {
   "cell_type": "code",
   "execution_count": 108,
   "metadata": {},
   "outputs": [
    {
     "data": {
      "text/plain": [
       "(29327,)"
      ]
     },
     "execution_count": 108,
     "metadata": {},
     "output_type": "execute_result"
    }
   ],
   "source": [
    "y_train.shape"
   ]
  },
  {
   "cell_type": "code",
   "execution_count": 109,
   "metadata": {},
   "outputs": [
    {
     "data": {
      "text/plain": [
       "(29327, 10)"
      ]
     },
     "execution_count": 109,
     "metadata": {},
     "output_type": "execute_result"
    }
   ],
   "source": [
    "X_train.shape"
   ]
  },
  {
   "cell_type": "code",
   "execution_count": 110,
   "metadata": {},
   "outputs": [],
   "source": [
    "# Use the random grid to search for best hyperparameters\n",
    "# First create the base model to tune\n",
    "lr = LogisticRegression()"
   ]
  },
  {
   "cell_type": "code",
   "execution_count": 111,
   "metadata": {},
   "outputs": [
    {
     "data": {
      "text/plain": [
       "LogisticRegression()"
      ]
     },
     "execution_count": 111,
     "metadata": {},
     "output_type": "execute_result"
    }
   ],
   "source": [
    "lr.fit(X_train,y_train)"
   ]
  },
  {
   "cell_type": "code",
   "execution_count": 112,
   "metadata": {},
   "outputs": [],
   "source": [
    "y_pred_lr=lr.predict(X_test)"
   ]
  },
  {
   "cell_type": "code",
   "execution_count": 113,
   "metadata": {},
   "outputs": [],
   "source": [
    "from sklearn.metrics import precision_score,recall_score,f1_score"
   ]
  },
  {
   "cell_type": "code",
   "execution_count": 114,
   "metadata": {},
   "outputs": [
    {
     "data": {
      "text/plain": [
       "array([[8341,  203,   82],\n",
       "       [2482,  369,   42],\n",
       "       [ 880,   38,  133]], dtype=int64)"
      ]
     },
     "execution_count": 114,
     "metadata": {},
     "output_type": "execute_result"
    }
   ],
   "source": [
    "confusion_matrix(y_test,y_pred_lr)"
   ]
  },
  {
   "cell_type": "code",
   "execution_count": 115,
   "metadata": {},
   "outputs": [
    {
     "data": {
      "text/plain": [
       "0.7035003977724742"
      ]
     },
     "execution_count": 115,
     "metadata": {},
     "output_type": "execute_result"
    }
   ],
   "source": [
    "precision_score(y_test, y_pred_lr,average='micro')"
   ]
  },
  {
   "cell_type": "code",
   "execution_count": 116,
   "metadata": {},
   "outputs": [
    {
     "data": {
      "text/plain": [
       "0.7035003977724742"
      ]
     },
     "execution_count": 116,
     "metadata": {},
     "output_type": "execute_result"
    }
   ],
   "source": [
    "recall_score(y_test, y_pred_lr,average='micro')"
   ]
  },
  {
   "cell_type": "code",
   "execution_count": 117,
   "metadata": {},
   "outputs": [
    {
     "data": {
      "text/plain": [
       "0.7035003977724742"
      ]
     },
     "execution_count": 117,
     "metadata": {},
     "output_type": "execute_result"
    }
   ],
   "source": [
    "f1_score(y_test, y_pred_lr,average='micro')"
   ]
  },
  {
   "cell_type": "code",
   "execution_count": 118,
   "metadata": {},
   "outputs": [],
   "source": [
    "lr_accuracy=accuracy_score(y_test,y_pred_lr)"
   ]
  },
  {
   "cell_type": "code",
   "execution_count": 119,
   "metadata": {},
   "outputs": [],
   "source": [
    "lr_accuracy=round(lr_accuracy*100,2)"
   ]
  },
  {
   "cell_type": "code",
   "execution_count": 120,
   "metadata": {},
   "outputs": [
    {
     "name": "stdout",
     "output_type": "stream",
     "text": [
      "70.35\n"
     ]
    }
   ],
   "source": [
    "print(lr_accuracy)"
   ]
  },
  {
   "cell_type": "markdown",
   "metadata": {},
   "source": [
    "### Decision Tree"
   ]
  },
  {
   "cell_type": "code",
   "execution_count": 121,
   "metadata": {},
   "outputs": [],
   "source": [
    "from sklearn.tree import DecisionTreeClassifier\n",
    "\n",
    "dtc=DecisionTreeClassifier()"
   ]
  },
  {
   "cell_type": "code",
   "execution_count": 122,
   "metadata": {},
   "outputs": [
    {
     "data": {
      "text/plain": [
       "DecisionTreeClassifier()"
      ]
     },
     "execution_count": 122,
     "metadata": {},
     "output_type": "execute_result"
    }
   ],
   "source": [
    "dtc.fit(X_train,y_train)"
   ]
  },
  {
   "cell_type": "code",
   "execution_count": 123,
   "metadata": {},
   "outputs": [],
   "source": [
    "y_pred_dtc=dtc.predict(X_test)"
   ]
  },
  {
   "cell_type": "code",
   "execution_count": 124,
   "metadata": {},
   "outputs": [
    {
     "name": "stdout",
     "output_type": "stream",
     "text": [
      "[[8227  312   87]\n",
      " [ 456 2400   37]\n",
      " [ 228   51  772]]\n"
     ]
    }
   ],
   "source": [
    "print(confusion_matrix(y_test,y_pred_dtc))"
   ]
  },
  {
   "cell_type": "code",
   "execution_count": 125,
   "metadata": {},
   "outputs": [],
   "source": [
    "dtc_accuracy=accuracy_score(y_test,y_pred_dtc)"
   ]
  },
  {
   "cell_type": "code",
   "execution_count": 126,
   "metadata": {},
   "outputs": [],
   "source": [
    "dtc_accuracy=round(dtc_accuracy*100,2)"
   ]
  },
  {
   "cell_type": "code",
   "execution_count": 127,
   "metadata": {},
   "outputs": [
    {
     "name": "stdout",
     "output_type": "stream",
     "text": [
      "90.68\n"
     ]
    }
   ],
   "source": [
    "print(dtc_accuracy)"
   ]
  },
  {
   "cell_type": "markdown",
   "metadata": {},
   "source": [
    "### K Nearest Neighbour"
   ]
  },
  {
   "cell_type": "code",
   "execution_count": 128,
   "metadata": {},
   "outputs": [],
   "source": [
    "from sklearn.neighbors import KNeighborsClassifier"
   ]
  },
  {
   "cell_type": "code",
   "execution_count": 129,
   "metadata": {},
   "outputs": [],
   "source": [
    "knn=KNeighborsClassifier()"
   ]
  },
  {
   "cell_type": "code",
   "execution_count": 130,
   "metadata": {},
   "outputs": [
    {
     "data": {
      "text/plain": [
       "KNeighborsClassifier()"
      ]
     },
     "execution_count": 130,
     "metadata": {},
     "output_type": "execute_result"
    }
   ],
   "source": [
    "knn.fit(X_train,y_train)"
   ]
  },
  {
   "cell_type": "code",
   "execution_count": 131,
   "metadata": {},
   "outputs": [],
   "source": [
    "y_pred_knn=knn.predict(X_test)"
   ]
  },
  {
   "cell_type": "code",
   "execution_count": 132,
   "metadata": {},
   "outputs": [
    {
     "name": "stdout",
     "output_type": "stream",
     "text": [
      "[[8197  336   93]\n",
      " [ 595 2261   37]\n",
      " [ 269   46  736]]\n"
     ]
    }
   ],
   "source": [
    "print(confusion_matrix(y_test,y_pred_knn))"
   ]
  },
  {
   "cell_type": "code",
   "execution_count": 133,
   "metadata": {},
   "outputs": [],
   "source": [
    "knn_accuracy=accuracy_score(y_test,y_pred_knn)"
   ]
  },
  {
   "cell_type": "code",
   "execution_count": 134,
   "metadata": {},
   "outputs": [],
   "source": [
    "knn_accuracy=round(knn_accuracy*100,2)"
   ]
  },
  {
   "cell_type": "code",
   "execution_count": 135,
   "metadata": {},
   "outputs": [
    {
     "name": "stdout",
     "output_type": "stream",
     "text": [
      "89.05\n"
     ]
    }
   ],
   "source": [
    "print(knn_accuracy)"
   ]
  },
  {
   "cell_type": "markdown",
   "metadata": {},
   "source": [
    "### Adaboost Classifier"
   ]
  },
  {
   "cell_type": "code",
   "execution_count": 136,
   "metadata": {},
   "outputs": [],
   "source": [
    "from sklearn.ensemble import AdaBoostClassifier"
   ]
  },
  {
   "cell_type": "code",
   "execution_count": 137,
   "metadata": {},
   "outputs": [],
   "source": [
    "abc=AdaBoostClassifier()"
   ]
  },
  {
   "cell_type": "code",
   "execution_count": 138,
   "metadata": {},
   "outputs": [
    {
     "data": {
      "text/plain": [
       "AdaBoostClassifier()"
      ]
     },
     "execution_count": 138,
     "metadata": {},
     "output_type": "execute_result"
    }
   ],
   "source": [
    "abc.fit(X_train,y_train)"
   ]
  },
  {
   "cell_type": "code",
   "execution_count": 139,
   "metadata": {},
   "outputs": [],
   "source": [
    "y_pred_abc=abc.predict(X_test)"
   ]
  },
  {
   "cell_type": "code",
   "execution_count": 140,
   "metadata": {},
   "outputs": [
    {
     "name": "stdout",
     "output_type": "stream",
     "text": [
      "[[8279  177  170]\n",
      " [2303  486  104]\n",
      " [ 847   26  178]]\n"
     ]
    }
   ],
   "source": [
    "print(confusion_matrix(y_test,y_pred_abc))"
   ]
  },
  {
   "cell_type": "code",
   "execution_count": 141,
   "metadata": {},
   "outputs": [],
   "source": [
    "adaboost_accuracy=accuracy_score(y_test,y_pred_abc)"
   ]
  },
  {
   "cell_type": "code",
   "execution_count": 142,
   "metadata": {},
   "outputs": [],
   "source": [
    "adaboost_accuracy=round(adaboost_accuracy*100,2)"
   ]
  },
  {
   "cell_type": "code",
   "execution_count": 143,
   "metadata": {},
   "outputs": [
    {
     "name": "stdout",
     "output_type": "stream",
     "text": [
      "71.15\n"
     ]
    }
   ],
   "source": [
    "print(adaboost_accuracy)"
   ]
  },
  {
   "cell_type": "markdown",
   "metadata": {},
   "source": [
    "### Naive Bayes"
   ]
  },
  {
   "cell_type": "code",
   "execution_count": 144,
   "metadata": {},
   "outputs": [],
   "source": [
    "from sklearn.naive_bayes import GaussianNB"
   ]
  },
  {
   "cell_type": "code",
   "execution_count": 145,
   "metadata": {},
   "outputs": [],
   "source": [
    "gnb=GaussianNB()"
   ]
  },
  {
   "cell_type": "code",
   "execution_count": 146,
   "metadata": {},
   "outputs": [
    {
     "data": {
      "text/plain": [
       "GaussianNB()"
      ]
     },
     "execution_count": 146,
     "metadata": {},
     "output_type": "execute_result"
    }
   ],
   "source": [
    "gnb.fit(X_train,y_train)"
   ]
  },
  {
   "cell_type": "code",
   "execution_count": 147,
   "metadata": {},
   "outputs": [],
   "source": [
    "y_pred_gnb=gnb.predict(X_test)"
   ]
  },
  {
   "cell_type": "code",
   "execution_count": 148,
   "metadata": {},
   "outputs": [
    {
     "name": "stdout",
     "output_type": "stream",
     "text": [
      "[[7035  719  872]\n",
      " [1640  764  489]\n",
      " [ 441   61  549]]\n"
     ]
    }
   ],
   "source": [
    "print(confusion_matrix(y_test,y_pred_gnb))"
   ]
  },
  {
   "cell_type": "code",
   "execution_count": 149,
   "metadata": {},
   "outputs": [],
   "source": [
    "gnb_accuracy=accuracy_score(y_test,y_pred_gnb)"
   ]
  },
  {
   "cell_type": "code",
   "execution_count": 150,
   "metadata": {},
   "outputs": [],
   "source": [
    "gnb_accuracy=round(gnb_accuracy*100,2)"
   ]
  },
  {
   "cell_type": "code",
   "execution_count": 151,
   "metadata": {},
   "outputs": [
    {
     "name": "stdout",
     "output_type": "stream",
     "text": [
      "66.41\n"
     ]
    }
   ],
   "source": [
    "print(gnb_accuracy)"
   ]
  },
  {
   "cell_type": "markdown",
   "metadata": {},
   "source": [
    "### XGBoost Classifier"
   ]
  },
  {
   "cell_type": "code",
   "execution_count": 152,
   "metadata": {},
   "outputs": [],
   "source": [
    "import xgboost as xgb"
   ]
  },
  {
   "cell_type": "code",
   "execution_count": 153,
   "metadata": {},
   "outputs": [],
   "source": [
    "xgbc=xgb.XGBClassifier()"
   ]
  },
  {
   "cell_type": "code",
   "execution_count": 154,
   "metadata": {},
   "outputs": [
    {
     "name": "stdout",
     "output_type": "stream",
     "text": [
      "[23:12:38] WARNING: C:/Users/Administrator/workspace/xgboost-win64_release_1.4.0/src/learner.cc:1095: Starting in XGBoost 1.3.0, the default evaluation metric used with the objective 'multi:softprob' was changed from 'merror' to 'mlogloss'. Explicitly set eval_metric if you'd like to restore the old behavior.\n"
     ]
    },
    {
     "data": {
      "text/plain": [
       "XGBClassifier(base_score=0.5, booster='gbtree', colsample_bylevel=1,\n",
       "              colsample_bynode=1, colsample_bytree=1, gamma=0, gpu_id=-1,\n",
       "              importance_type='gain', interaction_constraints='',\n",
       "              learning_rate=0.300000012, max_delta_step=0, max_depth=6,\n",
       "              min_child_weight=1, missing=nan, monotone_constraints='()',\n",
       "              n_estimators=100, n_jobs=4, num_parallel_tree=1,\n",
       "              objective='multi:softprob', random_state=0, reg_alpha=0,\n",
       "              reg_lambda=1, scale_pos_weight=None, subsample=1,\n",
       "              tree_method='exact', validate_parameters=1, verbosity=None)"
      ]
     },
     "execution_count": 154,
     "metadata": {},
     "output_type": "execute_result"
    }
   ],
   "source": [
    "xgbc.fit(X_train,y_train)"
   ]
  },
  {
   "cell_type": "code",
   "execution_count": 155,
   "metadata": {},
   "outputs": [],
   "source": [
    "y_pred_xgbc=xgbc.predict(X_test)"
   ]
  },
  {
   "cell_type": "code",
   "execution_count": 156,
   "metadata": {},
   "outputs": [
    {
     "name": "stdout",
     "output_type": "stream",
     "text": [
      "[[8251  269  106]\n",
      " [ 879 1959   55]\n",
      " [ 315   46  690]]\n"
     ]
    }
   ],
   "source": [
    "print(confusion_matrix(y_test,y_pred_xgbc))"
   ]
  },
  {
   "cell_type": "code",
   "execution_count": 157,
   "metadata": {},
   "outputs": [],
   "source": [
    "xgbc_accuracy=accuracy_score(y_test,y_pred_xgbc)"
   ]
  },
  {
   "cell_type": "code",
   "execution_count": 158,
   "metadata": {},
   "outputs": [],
   "source": [
    "xgbc_accuracy=round(xgbc_accuracy*100,2)"
   ]
  },
  {
   "cell_type": "code",
   "execution_count": 159,
   "metadata": {},
   "outputs": [
    {
     "name": "stdout",
     "output_type": "stream",
     "text": [
      "86.71\n"
     ]
    }
   ],
   "source": [
    "print(xgbc_accuracy)"
   ]
  },
  {
   "cell_type": "code",
   "execution_count": null,
   "metadata": {},
   "outputs": [],
   "source": []
  },
  {
   "cell_type": "markdown",
   "metadata": {},
   "source": [
    "### Model Finalising and Pickling"
   ]
  },
  {
   "cell_type": "code",
   "execution_count": 160,
   "metadata": {},
   "outputs": [],
   "source": [
    "ultimate_classifer={xgb:'xgbc_model',gnb:'gnb_model',abc:'adaboost_model',\n",
    "                knn:'knn_model',dtc:'dtc_model',lr:'Logistic_model',\n",
    "                rfc_best:'rfc_model'}"
   ]
  },
  {
   "cell_type": "code",
   "execution_count": 161,
   "metadata": {},
   "outputs": [],
   "source": [
    "ultimate_model={'xgbc_model':xgbc_accuracy,'gnb_model':gnb_accuracy,'adaboost_model':adaboost_accuracy,\n",
    "                'knn_model':knn_accuracy,'dtc_model':dtc_accuracy,'Logistic_model':lr_accuracy,\n",
    "                'rfc_model':rfc_accuracy}"
   ]
  },
  {
   "cell_type": "code",
   "execution_count": 162,
   "metadata": {},
   "outputs": [],
   "source": [
    "keymax=max(zip(ultimate_model.values(),ultimate_model.keys()))[1]"
   ]
  },
  {
   "cell_type": "code",
   "execution_count": 163,
   "metadata": {},
   "outputs": [
    {
     "data": {
      "text/plain": [
       "'dtc_model'"
      ]
     },
     "execution_count": 163,
     "metadata": {},
     "output_type": "execute_result"
    }
   ],
   "source": [
    "keymax"
   ]
  },
  {
   "cell_type": "code",
   "execution_count": 164,
   "metadata": {},
   "outputs": [
    {
     "name": "stdout",
     "output_type": "stream",
     "text": [
      "DecisionTreeClassifier()\n"
     ]
    }
   ],
   "source": [
    "print(list(ultimate_classifer.keys())[list(ultimate_classifer.values()).index(keymax)])"
   ]
  },
  {
   "cell_type": "code",
   "execution_count": 165,
   "metadata": {},
   "outputs": [],
   "source": [
    "final_model=list(ultimate_classifer.keys())[list(ultimate_classifer.values()).index(keymax)]"
   ]
  },
  {
   "cell_type": "code",
   "execution_count": 166,
   "metadata": {},
   "outputs": [
    {
     "data": {
      "text/plain": [
       "DecisionTreeClassifier()"
      ]
     },
     "execution_count": 166,
     "metadata": {},
     "output_type": "execute_result"
    }
   ],
   "source": [
    "final_model"
   ]
  },
  {
   "cell_type": "code",
   "execution_count": null,
   "metadata": {},
   "outputs": [],
   "source": []
  },
  {
   "cell_type": "code",
   "execution_count": 167,
   "metadata": {},
   "outputs": [],
   "source": [
    "# Here Decision tree is best algorithm to produce best accuracy"
   ]
  },
  {
   "cell_type": "code",
   "execution_count": 168,
   "metadata": {},
   "outputs": [],
   "source": [
    "reversefactor = dict(zip(range(3),definitions))\n",
    "y_test = np.vectorize(reversefactor.get)(y_test)\n",
    "y_pred_dtc = np.vectorize(reversefactor.get)(y_pred_dtc)"
   ]
  },
  {
   "cell_type": "code",
   "execution_count": 169,
   "metadata": {},
   "outputs": [],
   "source": [
    "final_df=pd.DataFrame({'PROD_CATEGORY':y_test,'PRED_PROD_CATEGORY':y_pred_dtc})"
   ]
  },
  {
   "cell_type": "code",
   "execution_count": 170,
   "metadata": {},
   "outputs": [
    {
     "data": {
      "text/html": [
       "<div>\n",
       "<style scoped>\n",
       "    .dataframe tbody tr th:only-of-type {\n",
       "        vertical-align: middle;\n",
       "    }\n",
       "\n",
       "    .dataframe tbody tr th {\n",
       "        vertical-align: top;\n",
       "    }\n",
       "\n",
       "    .dataframe thead th {\n",
       "        text-align: right;\n",
       "    }\n",
       "</style>\n",
       "<table border=\"1\" class=\"dataframe\">\n",
       "  <thead>\n",
       "    <tr style=\"text-align: right;\">\n",
       "      <th></th>\n",
       "      <th>PROD_CATEGORY</th>\n",
       "      <th>PRED_PROD_CATEGORY</th>\n",
       "    </tr>\n",
       "  </thead>\n",
       "  <tbody>\n",
       "    <tr>\n",
       "      <th>0</th>\n",
       "      <td>ulip</td>\n",
       "      <td>ulip</td>\n",
       "    </tr>\n",
       "    <tr>\n",
       "      <th>1</th>\n",
       "      <td>trad</td>\n",
       "      <td>trad</td>\n",
       "    </tr>\n",
       "    <tr>\n",
       "      <th>2</th>\n",
       "      <td>trad</td>\n",
       "      <td>trad</td>\n",
       "    </tr>\n",
       "    <tr>\n",
       "      <th>3</th>\n",
       "      <td>ulip</td>\n",
       "      <td>ulip</td>\n",
       "    </tr>\n",
       "    <tr>\n",
       "      <th>4</th>\n",
       "      <td>ulip</td>\n",
       "      <td>ulip</td>\n",
       "    </tr>\n",
       "  </tbody>\n",
       "</table>\n",
       "</div>"
      ],
      "text/plain": [
       "  PROD_CATEGORY PRED_PROD_CATEGORY\n",
       "0          ulip               ulip\n",
       "1          trad               trad\n",
       "2          trad               trad\n",
       "3          ulip               ulip\n",
       "4          ulip               ulip"
      ]
     },
     "execution_count": 170,
     "metadata": {},
     "output_type": "execute_result"
    }
   ],
   "source": [
    "final_df.head()"
   ]
  },
  {
   "cell_type": "code",
   "execution_count": 171,
   "metadata": {},
   "outputs": [],
   "source": [
    "final_df=final_df.reset_index()"
   ]
  },
  {
   "cell_type": "code",
   "execution_count": 172,
   "metadata": {},
   "outputs": [
    {
     "data": {
      "text/html": [
       "<div>\n",
       "<style scoped>\n",
       "    .dataframe tbody tr th:only-of-type {\n",
       "        vertical-align: middle;\n",
       "    }\n",
       "\n",
       "    .dataframe tbody tr th {\n",
       "        vertical-align: top;\n",
       "    }\n",
       "\n",
       "    .dataframe thead th {\n",
       "        text-align: right;\n",
       "    }\n",
       "</style>\n",
       "<table border=\"1\" class=\"dataframe\">\n",
       "  <thead>\n",
       "    <tr style=\"text-align: right;\">\n",
       "      <th></th>\n",
       "      <th>index</th>\n",
       "      <th>PROD_CATEGORY</th>\n",
       "      <th>PRED_PROD_CATEGORY</th>\n",
       "    </tr>\n",
       "  </thead>\n",
       "  <tbody>\n",
       "    <tr>\n",
       "      <th>0</th>\n",
       "      <td>0</td>\n",
       "      <td>ulip</td>\n",
       "      <td>ulip</td>\n",
       "    </tr>\n",
       "    <tr>\n",
       "      <th>1</th>\n",
       "      <td>1</td>\n",
       "      <td>trad</td>\n",
       "      <td>trad</td>\n",
       "    </tr>\n",
       "    <tr>\n",
       "      <th>2</th>\n",
       "      <td>2</td>\n",
       "      <td>trad</td>\n",
       "      <td>trad</td>\n",
       "    </tr>\n",
       "    <tr>\n",
       "      <th>3</th>\n",
       "      <td>3</td>\n",
       "      <td>ulip</td>\n",
       "      <td>ulip</td>\n",
       "    </tr>\n",
       "    <tr>\n",
       "      <th>4</th>\n",
       "      <td>4</td>\n",
       "      <td>ulip</td>\n",
       "      <td>ulip</td>\n",
       "    </tr>\n",
       "  </tbody>\n",
       "</table>\n",
       "</div>"
      ],
      "text/plain": [
       "   index PROD_CATEGORY PRED_PROD_CATEGORY\n",
       "0      0          ulip               ulip\n",
       "1      1          trad               trad\n",
       "2      2          trad               trad\n",
       "3      3          ulip               ulip\n",
       "4      4          ulip               ulip"
      ]
     },
     "execution_count": 172,
     "metadata": {},
     "output_type": "execute_result"
    }
   ],
   "source": [
    "final_df.head()"
   ]
  },
  {
   "cell_type": "code",
   "execution_count": 173,
   "metadata": {},
   "outputs": [],
   "source": [
    "final_df=final_df[['index','PRED_PROD_CATEGORY']]"
   ]
  },
  {
   "cell_type": "code",
   "execution_count": 174,
   "metadata": {},
   "outputs": [],
   "source": [
    "final_df=final_df.rename({'index':'ID'},axis=1)"
   ]
  },
  {
   "cell_type": "code",
   "execution_count": 175,
   "metadata": {},
   "outputs": [
    {
     "data": {
      "text/html": [
       "<div>\n",
       "<style scoped>\n",
       "    .dataframe tbody tr th:only-of-type {\n",
       "        vertical-align: middle;\n",
       "    }\n",
       "\n",
       "    .dataframe tbody tr th {\n",
       "        vertical-align: top;\n",
       "    }\n",
       "\n",
       "    .dataframe thead th {\n",
       "        text-align: right;\n",
       "    }\n",
       "</style>\n",
       "<table border=\"1\" class=\"dataframe\">\n",
       "  <thead>\n",
       "    <tr style=\"text-align: right;\">\n",
       "      <th></th>\n",
       "      <th>ID</th>\n",
       "      <th>PRED_PROD_CATEGORY</th>\n",
       "    </tr>\n",
       "  </thead>\n",
       "  <tbody>\n",
       "    <tr>\n",
       "      <th>0</th>\n",
       "      <td>0</td>\n",
       "      <td>ulip</td>\n",
       "    </tr>\n",
       "    <tr>\n",
       "      <th>1</th>\n",
       "      <td>1</td>\n",
       "      <td>trad</td>\n",
       "    </tr>\n",
       "    <tr>\n",
       "      <th>2</th>\n",
       "      <td>2</td>\n",
       "      <td>trad</td>\n",
       "    </tr>\n",
       "    <tr>\n",
       "      <th>3</th>\n",
       "      <td>3</td>\n",
       "      <td>ulip</td>\n",
       "    </tr>\n",
       "    <tr>\n",
       "      <th>4</th>\n",
       "      <td>4</td>\n",
       "      <td>ulip</td>\n",
       "    </tr>\n",
       "  </tbody>\n",
       "</table>\n",
       "</div>"
      ],
      "text/plain": [
       "   ID PRED_PROD_CATEGORY\n",
       "0   0               ulip\n",
       "1   1               trad\n",
       "2   2               trad\n",
       "3   3               ulip\n",
       "4   4               ulip"
      ]
     },
     "execution_count": 175,
     "metadata": {},
     "output_type": "execute_result"
    }
   ],
   "source": [
    "final_df.head()"
   ]
  },
  {
   "cell_type": "code",
   "execution_count": null,
   "metadata": {},
   "outputs": [],
   "source": []
  },
  {
   "cell_type": "markdown",
   "metadata": {},
   "source": [
    "### Saving the Model"
   ]
  },
  {
   "cell_type": "code",
   "execution_count": 176,
   "metadata": {},
   "outputs": [
    {
     "data": {
      "text/plain": [
       "DecisionTreeClassifier()"
      ]
     },
     "execution_count": 176,
     "metadata": {},
     "output_type": "execute_result"
    }
   ],
   "source": [
    "import pickle\n",
    "\n",
    "#dump information to that file\n",
    "pickle.dump(final_model,open('model.pkl','wb'))\n",
    "\n",
    "#load a model\n",
    "pickle.load(open('model.pkl','rb'))"
   ]
  },
  {
   "cell_type": "code",
   "execution_count": 177,
   "metadata": {},
   "outputs": [],
   "source": [
    "final_df.to_csv('Baja_Allianz-submission.csv',index=False)"
   ]
  },
  {
   "cell_type": "code",
   "execution_count": null,
   "metadata": {},
   "outputs": [],
   "source": []
  },
  {
   "cell_type": "code",
   "execution_count": null,
   "metadata": {},
   "outputs": [],
   "source": []
  },
  {
   "cell_type": "code",
   "execution_count": null,
   "metadata": {},
   "outputs": [],
   "source": []
  }
 ],
 "metadata": {
  "kernelspec": {
   "display_name": "Python 3.10.2 64-bit",
   "language": "python",
   "name": "python3"
  },
  "language_info": {
   "codemirror_mode": {
    "name": "ipython",
    "version": 3
   },
   "file_extension": ".py",
   "mimetype": "text/x-python",
   "name": "python",
   "nbconvert_exporter": "python",
   "pygments_lexer": "ipython3",
   "version": "3.10.2"
  },
  "vscode": {
   "interpreter": {
    "hash": "ebd971e0725c631c1d06a3cca3e3c26cfb196c20660a2b5070511d8a9eed0080"
   }
  }
 },
 "nbformat": 4,
 "nbformat_minor": 4
}
